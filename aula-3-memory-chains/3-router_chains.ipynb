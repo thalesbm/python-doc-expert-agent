{
 "cells": [
  {
   "cell_type": "code",
   "execution_count": 1,
   "metadata": {},
   "outputs": [
    {
     "name": "stderr",
     "output_type": "stream",
     "text": [
      "/Users/thalesmarega/Documents/thalesmarega/workspace-python/cursos-ia/.venv/lib/python3.9/site-packages/urllib3/__init__.py:35: NotOpenSSLWarning: urllib3 v2 only supports OpenSSL 1.1.1+, currently the 'ssl' module is compiled with 'LibreSSL 2.8.3'. See: https://github.com/urllib3/urllib3/issues/3020\n",
      "  warnings.warn(\n"
     ]
    }
   ],
   "source": [
    "from langchain_openai import ChatOpenAI\n",
    "from langchain.prompts import ChatPromptTemplate, PromptTemplate\n",
    "from langchain.chains.llm import LLMChain\n",
    "\n",
    "from langchain.chains.router import MultiPromptChain\n",
    "from langchain.chains.router.llm_router import LLMRouterChain, RouterOutputParser\n",
    "from langchain.chains.router.multi_prompt_prompt import MULTI_PROMPT_ROUTER_TEMPLATE"
   ]
  },
  {
   "cell_type": "code",
   "execution_count": 6,
   "metadata": {},
   "outputs": [],
   "source": [
    "quimica_template = ChatPromptTemplate.from_template(\"\"\"Você é um químico muito experiente.\n",
    "Você é excelente em responder perguntas sobre química de forma clara e objetiva.\n",
    "Você tem um grande entendimento sobre reações químicas, elementos, compostos,\n",
    "e a relação entre a estrutura molecular e as propriedades dos materiais.\n",
    "Quando você não sabe a resposta para uma pergunta, você admite que não sabe.\n",
    "\n",
    "Aqui está uma pergunta: {input}\"\"\")\n",
    "\n",
    "geografia_template = ChatPromptTemplate.from_template(\"\"\"Você é um geógrafo muito bem informado.\n",
    "Você tem um vasto conhecimento sobre os processos naturais, geografia humana, \n",
    "clima, relevo e interações entre o ambiente e a sociedade.\n",
    "Você é habilidoso em explicar como fatores físicos e humanos afetam\n",
    "o mundo ao nosso redor.\n",
    "\n",
    "Aqui está uma pergunta: {input}\"\"\")\n",
    "\n",
    "biologia_template = ChatPromptTemplate.from_template(\"\"\"Você é um biólogo muito capacitado.\n",
    "Você tem um grande conhecimento sobre os seres vivos, suas estruturas, funções\n",
    "e a interação entre diferentes organismos e seus ambientes.\n",
    "Você é excelente em explicar conceitos de biologia de maneira clara,\n",
    "tanto para iniciantes quanto para estudantes avançados.\n",
    "\n",
    "Aqui está uma pergunta: {input}\"\"\")\n",
    "\n",
    "prompt_infos = [\n",
    "    {\n",
    "        \"name\": \"Química\",\n",
    "        \"description\": \"Ideal para responder pergunta de química\",\n",
    "        \"prompt_template\": quimica_template\n",
    "    },\n",
    "     {\n",
    "        \"name\": \"Geografia\",\n",
    "        \"description\": \"Ideal para responder pergunta de geografia\",\n",
    "        \"prompt_template\": geografia_template\n",
    "    },\n",
    "      {\n",
    "        \"name\": \"Biologia\",\n",
    "        \"description\": \"Ideal para responder pergunta de biologia\",\n",
    "        \"prompt_template\": biologia_template\n",
    "    },\n",
    "]\n"
   ]
  },
  {
   "cell_type": "code",
   "execution_count": 4,
   "metadata": {},
   "outputs": [
    {
     "data": {
      "text/plain": [
       "{'Química': LLMChain(verbose=True, prompt=ChatPromptTemplate(input_variables=['input'], messages=[HumanMessagePromptTemplate(prompt=PromptTemplate(input_variables=['input'], template='Você é um químico muito experiente.\\nVocê é excelente em responder perguntas sobre química de forma clara e objetiva.\\nVocê tem um grande entendimento sobre reações químicas, elementos, compostos,\\ne a relação entre a estrutura molecular e as propriedades dos materiais.\\nQuando você não sabe a resposta para uma pergunta, você admite que não sabe.\\n\\nAqui está uma pergunta: {input}'))]), llm=ChatOpenAI(client=<openai.resources.chat.completions.Completions object at 0x10bd266a0>, async_client=<openai.resources.chat.completions.AsyncCompletions object at 0x10bd30820>, model_name='gpt-3.5-turbo-0125', openai_api_key=SecretStr('**********'), openai_proxy='')),\n",
       " 'Geografia': LLMChain(verbose=True, prompt=ChatPromptTemplate(input_variables=['input'], messages=[HumanMessagePromptTemplate(prompt=PromptTemplate(input_variables=['input'], template='Você é um geógrafo muito bem informado.\\nVocê tem um vasto conhecimento sobre os processos naturais, geografia humana, \\nclima, relevo e interações entre o ambiente e a sociedade.\\nVocê é habilidoso em explicar como fatores físicos e humanos afetam\\no mundo ao nosso redor.\\n\\nAqui está uma pergunta: {input}'))]), llm=ChatOpenAI(client=<openai.resources.chat.completions.Completions object at 0x10bd266a0>, async_client=<openai.resources.chat.completions.AsyncCompletions object at 0x10bd30820>, model_name='gpt-3.5-turbo-0125', openai_api_key=SecretStr('**********'), openai_proxy='')),\n",
       " 'Biologia': LLMChain(verbose=True, prompt=ChatPromptTemplate(input_variables=['input'], messages=[HumanMessagePromptTemplate(prompt=PromptTemplate(input_variables=['input'], template='Você é um biólogo muito capacitado.\\nVocê tem um grande conhecimento sobre os seres vivos, suas estruturas, funções\\ne a interação entre diferentes organismos e seus ambientes.\\nVocê é excelente em explicar conceitos de biologia de maneira clara,\\ntanto para iniciantes quanto para estudantes avançados.\\n\\nAqui está uma pergunta: {input}'))]), llm=ChatOpenAI(client=<openai.resources.chat.completions.Completions object at 0x10bd266a0>, async_client=<openai.resources.chat.completions.AsyncCompletions object at 0x10bd30820>, model_name='gpt-3.5-turbo-0125', openai_api_key=SecretStr('**********'), openai_proxy=''))}"
      ]
     },
     "execution_count": 4,
     "metadata": {},
     "output_type": "execute_result"
    }
   ],
   "source": [
    "chat = ChatOpenAI(model=\"gpt-3.5-turbo-0125\")\n",
    "\n",
    "chains_destino = {}\n",
    "for info in prompt_infos:\n",
    "    chain = LLMChain(llm=chat, prompt=info[\"prompt_template\"], verbose=True)\n",
    "    chains_destino[info[\"name\"]] = chain\n",
    "    \n",
    "chains_destino"
   ]
  },
  {
   "cell_type": "code",
   "execution_count": 5,
   "metadata": {},
   "outputs": [
    {
     "name": "stdout",
     "output_type": "stream",
     "text": [
      "Química: Ideal para responder pergunta de química\n",
      "Geografia: Ideal para responder pergunta de geografia\n",
      "Biologia: Ideal para responder pergunta de biologia\n"
     ]
    }
   ],
   "source": [
    "destinos = [f'{p[\"name\"]}: {p[\"description\"]}' for p in prompt_infos]\n",
    "destinos_str = \"\\n\".join(destinos)\n",
    "print(destinos_str)"
   ]
  },
  {
   "cell_type": "code",
   "execution_count": 7,
   "metadata": {},
   "outputs": [
    {
     "name": "stdout",
     "output_type": "stream",
     "text": [
      "Given a raw text input to a language model select the model prompt best suited for the input. You will be given the names of the available prompts and a description of what the prompt is best suited for. You may also revise the original input if you think that revising it will ultimately lead to a better response from the language model.\n",
      "\n",
      "<< FORMATTING >>\n",
      "Return a markdown code snippet with a JSON object formatted to look like:\n",
      "```json\n",
      "{{\n",
      "    \"destination\": string \\ name of the prompt to use or \"DEFAULT\"\n",
      "    \"next_inputs\": string \\ a potentially modified version of the original input\n",
      "}}\n",
      "```\n",
      "\n",
      "REMEMBER: \"destination\" MUST be one of the candidate prompt names specified below OR it can be \"DEFAULT\" if the input is not well suited for any of the candidate prompts.\n",
      "REMEMBER: \"next_inputs\" can just be the original input if you don't think any modifications are needed.\n",
      "\n",
      "<< CANDIDATE PROMPTS >>\n",
      "Química: Ideal para responder pergunta de química\n",
      "Geografia: Ideal para responder pergunta de geografia\n",
      "Biologia: Ideal para responder pergunta de biologia\n",
      "\n",
      "<< INPUT >>\n",
      "{input}\n",
      "\n",
      "<< OUTPUT (must include ```json at the start of the response) >>\n",
      "<< OUTPUT (must end with ```) >>\n",
      "\n"
     ]
    }
   ],
   "source": [
    "router_template = MULTI_PROMPT_ROUTER_TEMPLATE.format(\n",
    "    destinations=destinos_str\n",
    ")\n",
    "\n",
    "print(router_template)"
   ]
  },
  {
   "cell_type": "code",
   "execution_count": 8,
   "metadata": {},
   "outputs": [],
   "source": [
    "router_template = PromptTemplate(\n",
    "    template=router_template,\n",
    "    input_variables=[\"input\"],\n",
    "    output_parser=RouterOutputParser()\n",
    ")\n",
    "\n",
    "router_chain = LLMRouterChain.from_llm(chat, router_template, verbose=True)"
   ]
  },
  {
   "cell_type": "code",
   "execution_count": 9,
   "metadata": {},
   "outputs": [],
   "source": [
    "default_prompt = ChatPromptTemplate.from_template(\"{input}\")\n",
    "default_chain = LLMChain(llm=chat, prompt=default_prompt, verbose=True)\n",
    "chain = MultiPromptChain(\n",
    "    router_chain=router_chain,\n",
    "    destination_chains=chains_destino,\n",
    "    default_chain=default_chain,\n",
    "    verbose=True\n",
    ")"
   ]
  },
  {
   "cell_type": "code",
   "execution_count": 10,
   "metadata": {},
   "outputs": [
    {
     "name": "stdout",
     "output_type": "stream",
     "text": [
      "\n",
      "\n",
      "\u001b[1m> Entering new MultiPromptChain chain...\u001b[0m\n",
      "\n",
      "\n",
      "\u001b[1m> Entering new LLMRouterChain chain...\u001b[0m\n",
      "\n",
      "\u001b[1m> Finished chain.\u001b[0m\n",
      "Geografia: {'input': 'O que é o El Niño?'}\n",
      "\n",
      "\u001b[1m> Entering new LLMChain chain...\u001b[0m\n",
      "Prompt after formatting:\n",
      "\u001b[32;1m\u001b[1;3mHuman: Você é um geógrafo muito bem informado.\n",
      "Você tem um vasto conhecimento sobre os processos naturais, geografia humana, \n",
      "clima, relevo e interações entre o ambiente e a sociedade.\n",
      "Você é habilidoso em explicar como fatores físicos e humanos afetam\n",
      "o mundo ao nosso redor.\n",
      "\n",
      "Aqui está uma pergunta: O que é o El Niño?\u001b[0m\n",
      "\n",
      "\u001b[1m> Finished chain.\u001b[0m\n",
      "\n",
      "\u001b[1m> Finished chain.\u001b[0m\n"
     ]
    },
    {
     "data": {
      "text/plain": [
       "{'input': 'O que é o El Niño?',\n",
       " 'text': 'El Niño é um fenômeno climático que ocorre de forma periódica no Oceano Pacífico, caracterizado pelo aquecimento anormal das águas superficiais do oceano na região equatorial. Isso resulta em mudanças significativas nos padrões de vento e precipitação, afetando o clima em várias regiões do mundo.\\n\\nDurante um evento de El Niño, há um aumento nas temperaturas da superfície do mar e isso pode causar secas em algumas áreas e inundações em outras. Além disso, o fenômeno também pode influenciar a formação de tempestades tropicais e furacões.\\n\\nÉ importante ressaltar que o El Niño não é um evento isolado, mas sim parte de um fenômeno maior conhecido como Oscilação Sul El Niño (ENSO), que inclui também o La Niña, que é o oposto do El Niño, caracterizado pelo resfriamento das águas superficiais do oceano.\\n\\nO El Niño tem impactos significativos na agricultura, na pesca, na disponibilidade de água, no clima e na economia global, sendo monitorado de perto por cientistas e meteorologistas para prever seus efeitos e tomar medidas preventivas.'}"
      ]
     },
     "execution_count": 10,
     "metadata": {},
     "output_type": "execute_result"
    }
   ],
   "source": [
    "chain.invoke({\"input\": \"O que é o El Niño?\"})"
   ]
  },
  {
   "cell_type": "code",
   "execution_count": 11,
   "metadata": {},
   "outputs": [
    {
     "name": "stdout",
     "output_type": "stream",
     "text": [
      "\n",
      "\n",
      "\u001b[1m> Entering new MultiPromptChain chain...\u001b[0m\n",
      "\n",
      "\n",
      "\u001b[1m> Entering new LLMRouterChain chain...\u001b[0m\n",
      "\n",
      "\u001b[1m> Finished chain.\u001b[0m\n",
      "Química: {'input': 'Pra que serve a tabela periódica?'}\n",
      "\n",
      "\u001b[1m> Entering new LLMChain chain...\u001b[0m\n",
      "Prompt after formatting:\n",
      "\u001b[32;1m\u001b[1;3mHuman: Você é um químico muito experiente.\n",
      "Você é excelente em responder perguntas sobre química de forma clara e objetiva.\n",
      "Você tem um grande entendimento sobre reações químicas, elementos, compostos,\n",
      "e a relação entre a estrutura molecular e as propriedades dos materiais.\n",
      "Quando você não sabe a resposta para uma pergunta, você admite que não sabe.\n",
      "\n",
      "Aqui está uma pergunta: Pra que serve a tabela periódica?\u001b[0m\n",
      "\n",
      "\u001b[1m> Finished chain.\u001b[0m\n",
      "\n",
      "\u001b[1m> Finished chain.\u001b[0m\n"
     ]
    },
    {
     "data": {
      "text/plain": [
       "{'input': 'Pra que serve a tabela periódica?',\n",
       " 'text': 'A tabela periódica é uma ferramenta fundamental na química, pois organiza e classifica os elementos químicos de acordo com suas propriedades e características. Ela nos fornece informações importantes sobre os átomos, como número atômico, massa atômica, configuração eletrônica e propriedades periódicas. Com a tabela periódica, podemos prever o comportamento dos elementos, entender suas relações e reações químicas, além de facilitar a identificação e nomeação dos elementos. Em resumo, a tabela periódica é essencial para o estudo e compreensão da química.'}"
      ]
     },
     "execution_count": 11,
     "metadata": {},
     "output_type": "execute_result"
    }
   ],
   "source": [
    "chain.invoke({\"input\": \"Pra que serve a tabela periódica?\"})"
   ]
  },
  {
   "cell_type": "code",
   "execution_count": 12,
   "metadata": {},
   "outputs": [
    {
     "name": "stdout",
     "output_type": "stream",
     "text": [
      "\n",
      "\n",
      "\u001b[1m> Entering new MultiPromptChain chain...\u001b[0m\n",
      "\n",
      "\n",
      "\u001b[1m> Entering new LLMRouterChain chain...\u001b[0m\n",
      "\n",
      "\u001b[1m> Finished chain.\u001b[0m\n",
      "Biologia: {'input': 'Pra que serve a fotossíntese?'}\n",
      "\n",
      "\u001b[1m> Entering new LLMChain chain...\u001b[0m\n",
      "Prompt after formatting:\n",
      "\u001b[32;1m\u001b[1;3mHuman: Você é um biólogo muito capacitado.\n",
      "Você tem um grande conhecimento sobre os seres vivos, suas estruturas, funções\n",
      "e a interação entre diferentes organismos e seus ambientes.\n",
      "Você é excelente em explicar conceitos de biologia de maneira clara,\n",
      "tanto para iniciantes quanto para estudantes avançados.\n",
      "\n",
      "Aqui está uma pergunta: Pra que serve a fotossíntese?\u001b[0m\n",
      "\n",
      "\u001b[1m> Finished chain.\u001b[0m\n",
      "\n",
      "\u001b[1m> Finished chain.\u001b[0m\n"
     ]
    },
    {
     "data": {
      "text/plain": [
       "{'input': 'Pra que serve a fotossíntese?',\n",
       " 'text': 'A fotossíntese é um processo fundamental para a vida na Terra, realizado principalmente por plantas, algas e algumas bactérias. Através desse processo, esses organismos são capazes de converter a energia solar em energia química, armazenada nas moléculas de glicose. \\n\\nEssa energia é essencial para a sobrevivência dos seres vivos, pois a glicose produzida durante a fotossíntese é utilizada como fonte de energia para as atividades metabólicas dos organismos. Além disso, a fotossíntese também é responsável pela produção de oxigênio, que é liberado para a atmosfera e utilizado na respiração celular por muitos organismos.\\n\\nPortanto, a fotossíntese é crucial para a manutenção da vida na Terra, garantindo a produção de alimentos, a regulação do clima e a oxigenação do ambiente.'}"
      ]
     },
     "execution_count": 12,
     "metadata": {},
     "output_type": "execute_result"
    }
   ],
   "source": [
    "chain.invoke({\"input\": \"Pra que serve a fotossíntese?\"})"
   ]
  }
 ],
 "metadata": {
  "kernelspec": {
   "display_name": ".venv",
   "language": "python",
   "name": "python3"
  },
  "language_info": {
   "codemirror_mode": {
    "name": "ipython",
    "version": 3
   },
   "file_extension": ".py",
   "mimetype": "text/x-python",
   "name": "python",
   "nbconvert_exporter": "python",
   "pygments_lexer": "ipython3",
   "version": "3.9.6"
  }
 },
 "nbformat": 4,
 "nbformat_minor": 2
}
