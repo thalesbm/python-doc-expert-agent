{
 "cells": [
  {
   "cell_type": "code",
   "execution_count": 3,
   "metadata": {},
   "outputs": [
    {
     "name": "stdout",
     "output_type": "stream",
     "text": [
      "\n",
      "\n",
      "\u001b[1m> Entering new ConversationChain chain...\u001b[0m\n",
      "Prompt after formatting:\n",
      "\u001b[32;1m\u001b[1;3mThe following is a friendly conversation between a human and an AI. The AI is talkative and provides lots of specific details from its context. If the AI does not know the answer to a question, it truthfully says it does not know.\n",
      "\n",
      "Current conversation:\n",
      "\n",
      "Human: olá\n",
      "AI:\u001b[0m\n",
      "\n",
      "\u001b[1m> Finished chain.\u001b[0m\n"
     ]
    },
    {
     "data": {
      "text/plain": [
       "'Olá! Como posso ajudá-lo hoje?'"
      ]
     },
     "execution_count": 3,
     "metadata": {},
     "output_type": "execute_result"
    }
   ],
   "source": [
    "from langchain_openai.chat_models import ChatOpenAI\n",
    "from langchain.memory import ConversationBufferMemory\n",
    "from langchain.chains.conversation.base import ConversationChain\n",
    "\n",
    "chat = ChatOpenAI(model=\"gpt-3.5-turbo-0125\")\n",
    "memory = ConversationBufferMemory()\n",
    "chain = ConversationChain(\n",
    "    llm=chat,\n",
    "    memory=memory,\n",
    "    verbose=True\n",
    ")\n",
    "\n",
    "chain.predict(input=\"olá\")\n",
    "# ou chain.run(\"olá\")"
   ]
  },
  {
   "cell_type": "code",
   "execution_count": 4,
   "metadata": {},
   "outputs": [
    {
     "name": "stdout",
     "output_type": "stream",
     "text": [
      "\n",
      "\n",
      "\u001b[1m> Entering new ConversationChain chain...\u001b[0m\n",
      "Prompt after formatting:\n",
      "\u001b[32;1m\u001b[1;3m\n",
      "Essa é uma conversa amigável entre um humano e uma IA\n",
      "\n",
      "Conversa atual:\n",
      "\n",
      "Human: Oi\n",
      "AI:\u001b[0m\n",
      "\n",
      "\u001b[1m> Finished chain.\u001b[0m\n"
     ]
    },
    {
     "data": {
      "text/plain": [
       "'Olá! Como posso te ajudar hoje?'"
      ]
     },
     "execution_count": 4,
     "metadata": {},
     "output_type": "execute_result"
    }
   ],
   "source": [
    "from langchain.prompts import PromptTemplate\n",
    "\n",
    "prompt_template = PromptTemplate.from_template(\"\"\"\n",
    "Essa é uma conversa amigável entre um humano e uma IA\n",
    "\n",
    "Conversa atual:\n",
    "{history}\n",
    "Human: {input}\n",
    "AI:\"\"\"\n",
    ")\n",
    "\n",
    "chat = ChatOpenAI(model=\"gpt-3.5-turbo-0125\")\n",
    "memory = ConversationBufferMemory()\n",
    "chain = ConversationChain(\n",
    "    prompt=prompt_template,\n",
    "    llm=chat,\n",
    "    memory=memory,\n",
    "    verbose=True\n",
    ")\n",
    "\n",
    "chain.predict(input=\"Oi\")"
   ]
  },
  {
   "cell_type": "markdown",
   "metadata": {},
   "source": [
    "### LLMChain"
   ]
  },
  {
   "cell_type": "code",
   "execution_count": 6,
   "metadata": {},
   "outputs": [
    {
     "data": {
      "text/plain": [
       "'\"LangChain Solutions Incríveis\"'"
      ]
     },
     "execution_count": 6,
     "metadata": {},
     "output_type": "execute_result"
    }
   ],
   "source": [
    "from langchain_openai.chat_models import ChatOpenAI\n",
    "from langchain.memory import ConversationBufferMemory\n",
    "from langchain.chains.llm import LLMChain\n",
    "\n",
    "chat = ChatOpenAI(model=\"gpt-3.5-turbo-0125\")\n",
    "\n",
    "prompt = PromptTemplate.from_template(\n",
    "    \"\"\"\n",
    "    Escolha o pior nome para mim sobre uma empresa que desenvolve soluções em {produto}\n",
    "    \"\"\"\n",
    ")\n",
    "\n",
    "chain = LLMChain(llm=chat, prompt=prompt)\n",
    "produto = \"LLMs com LangChain\"\n",
    "chain.run(produto)"
   ]
  },
  {
   "cell_type": "markdown",
   "metadata": {},
   "source": [
    "### SimpleSequentialChain"
   ]
  },
  {
   "cell_type": "code",
   "execution_count": 7,
   "metadata": {},
   "outputs": [
    {
     "name": "stdout",
     "output_type": "stream",
     "text": [
      "\n",
      "\n",
      "\u001b[1m> Entering new SimpleSequentialChain chain...\u001b[0m\n",
      "\u001b[36;1m\u001b[1;3m\"LangSolve Solutions\"\u001b[0m\n",
      "\u001b[33;1m\u001b[1;3m\"LangSolve Solutions é uma empresa especializada em soluções linguísticas, oferecendo serviços de tradução e localização de alta qualidade.\"\u001b[0m\n",
      "\n",
      "\u001b[1m> Finished chain.\u001b[0m\n"
     ]
    },
    {
     "data": {
      "text/plain": [
       "'\"LangSolve Solutions é uma empresa especializada em soluções linguísticas, oferecendo serviços de tradução e localização de alta qualidade.\"'"
      ]
     },
     "execution_count": 7,
     "metadata": {},
     "output_type": "execute_result"
    }
   ],
   "source": [
    "from langchain.chains import SimpleSequentialChain\n",
    "\n",
    "chat = ChatOpenAI(model=\"gpt-3.5-turbo-0125\")\n",
    "\n",
    "prompt = PromptTemplate.from_template(\n",
    "    \"\"\"\n",
    "    Escolha o melhor nome para mim sobre uma empresa que desenvolve soluções em {produto}\n",
    "    \"\"\"\n",
    ")\n",
    "chain_nome = LLMChain(llm=chat, prompt=prompt)\n",
    "\n",
    "prompt_descricao = PromptTemplate.from_template(\n",
    "    \"\"\"\n",
    "    Sobre a empresa com nome {nome_empresa}.\n",
    "    Informe uma descrição de até 20 palavras.\n",
    "    \"\"\"\n",
    ")\n",
    "\n",
    "chain_descricao = LLMChain(llm=chat, prompt=prompt_descricao)\n",
    "\n",
    "chain = SimpleSequentialChain(\n",
    "    chains=[chain_nome, chain_descricao],\n",
    "    verbose=True\n",
    ")\n",
    "\n",
    "chain.run(input=produto)"
   ]
  },
  {
   "cell_type": "markdown",
   "metadata": {},
   "source": [
    "### SequentialChain"
   ]
  },
  {
   "cell_type": "code",
   "execution_count": 8,
   "metadata": {},
   "outputs": [
    {
     "name": "stdout",
     "output_type": "stream",
     "text": [
      "\n",
      "\n",
      "\u001b[1m> Entering new SequentialChain chain...\u001b[0m\n",
      "\n",
      "\u001b[1m> Finished chain.\u001b[0m\n"
     ]
    }
   ],
   "source": [
    "from langchain.chains import SequentialChain\n",
    "\n",
    "chat = ChatOpenAI(model=\"gpt-3.5-turbo-0125\")\n",
    "\n",
    "prompt = PromptTemplate.from_template(\n",
    "    \"\"\"\n",
    "    Qual um bom nome de empresa que desenvolve soluções em {produto}?\n",
    "    \"\"\"\n",
    ")\n",
    "chain_nome = LLMChain(llm=chat, prompt=prompt, output_key=\"nome_empresa\")\n",
    "\n",
    "prompt_descricao = PromptTemplate.from_template(\n",
    "    \"\"\"\n",
    "    Sobre a empresa com o nome {nome_empresa} e que \n",
    "    produz seguinte {produto}.\n",
    "    Informe uma descrição de até 30 palavras de atividades dessa empresa\n",
    "    \"\"\"\n",
    ")\n",
    "chain_descricao = LLMChain(llm=chat, prompt=prompt_descricao, \n",
    "                           output_key=\"descricao_empresa\")\n",
    "\n",
    "prompt_traducao = PromptTemplate.from_template(\n",
    "    \"\"\"\n",
    "    Crie um nome em espanhol para a empresa de nome {nome_empresa}\n",
    "    que possui a seguinte descrição {descricao_empresa}\n",
    "    \"\"\"\n",
    ")\n",
    "chain_traducao = LLMChain(llm=chat, prompt=prompt_traducao, output_key=\"nome_espanhol\")\n",
    "\n",
    "chain = SequentialChain(\n",
    "    chains=[chain_nome, chain_descricao, chain_traducao],\n",
    "    input_variables=[\"produto\"],\n",
    "    output_variables=[\"nome_empresa\", \"descricao_empresa\", \"nome_espanhol\"],\n",
    "    verbose=True\n",
    ")\n",
    "\n",
    "resposta = chain.invoke({\"produto\": produto})"
   ]
  },
  {
   "cell_type": "code",
   "execution_count": 9,
   "metadata": {},
   "outputs": [
    {
     "data": {
      "text/plain": [
       "'LLMs com LangChain'"
      ]
     },
     "execution_count": 9,
     "metadata": {},
     "output_type": "execute_result"
    }
   ],
   "source": [
    "resposta[\"produto\"]"
   ]
  },
  {
   "cell_type": "code",
   "execution_count": 10,
   "metadata": {},
   "outputs": [
    {
     "data": {
      "text/plain": [
       "'LangChain Solutions'"
      ]
     },
     "execution_count": 10,
     "metadata": {},
     "output_type": "execute_result"
    }
   ],
   "source": [
    "resposta[\"nome_empresa\"]"
   ]
  },
  {
   "cell_type": "code",
   "execution_count": 11,
   "metadata": {},
   "outputs": [
    {
     "data": {
      "text/plain": [
       "'A LangChain Solutions produz soluções de aprendizado de máquina (LLM) com a tecnologia LangChain para diversos setores e aplicações.'"
      ]
     },
     "execution_count": 11,
     "metadata": {},
     "output_type": "execute_result"
    }
   ],
   "source": [
    "resposta[\"descricao_empresa\"]"
   ]
  },
  {
   "cell_type": "code",
   "execution_count": 12,
   "metadata": {},
   "outputs": [
    {
     "data": {
      "text/plain": [
       "'Soluciones de Aprendizaje de Máquina LangChain'"
      ]
     },
     "execution_count": 12,
     "metadata": {},
     "output_type": "execute_result"
    }
   ],
   "source": [
    "resposta[\"nome_espanhol\"]"
   ]
  }
 ],
 "metadata": {
  "kernelspec": {
   "display_name": ".venv",
   "language": "python",
   "name": "python3"
  },
  "language_info": {
   "codemirror_mode": {
    "name": "ipython",
    "version": 3
   },
   "file_extension": ".py",
   "mimetype": "text/x-python",
   "name": "python",
   "nbconvert_exporter": "python",
   "pygments_lexer": "ipython3",
   "version": "3.9.6"
  }
 },
 "nbformat": 4,
 "nbformat_minor": 2
}
