{
 "cells": [
  {
   "cell_type": "code",
   "execution_count": 13,
   "metadata": {},
   "outputs": [
    {
     "data": {
      "text/plain": [
       "['Python é uma linguagem de programação de alto nív',\n",
       " 'el conhecida por sua simplicidade, \\nlegibilidade e',\n",
       " 'versatilidade. Seu design foi criado com o objeti',\n",
       " 'vo de ser fácil de \\naprender e usar, permitindo qu',\n",
       " 'e programadores escrevam código de maneira mais \\ni',\n",
       " 'ntuitiva e eficiente. Ao contrário de outras lingu',\n",
       " 'agens, Python prioriza a \\nlegibilidade do código,',\n",
       " 'o que facilita a compreensão e manutenção do softw',\n",
       " 'are, \\nmesmo por programadores que não são os autor',\n",
       " 'es do código original. \\nSua sintaxe clara, por exe',\n",
       " 'mplo, elimina a necessidade de muitos símbolos ou',\n",
       " 'palavras-chave complicadas, tornando o código mai',\n",
       " 's próximo da linguagem humana.']"
      ]
     },
     "execution_count": 13,
     "metadata": {},
     "output_type": "execute_result"
    }
   ],
   "source": [
    "texto_completo = \"\"\"\n",
    "Python é uma linguagem de programação de alto nível conhecida por sua simplicidade, \n",
    "legibilidade e versatilidade. Seu design foi criado com o objetivo de ser fácil de \n",
    "aprender e usar, permitindo que programadores escrevam código de maneira mais \n",
    "intuitiva e eficiente. Ao contrário de outras linguagens, Python prioriza a \n",
    "legibilidade do código, o que facilita a compreensão e manutenção do software, \n",
    "mesmo por programadores que não são os autores do código original. \n",
    "Sua sintaxe clara, por exemplo, elimina a necessidade de muitos símbolos ou \n",
    "palavras-chave complicadas, tornando o código mais próximo da linguagem humana.\n",
    "\"\"\"\n",
    "\n",
    "from langchain_text_splitters import CharacterTextSplitter\n",
    "import string\n",
    "\n",
    "char_split = CharacterTextSplitter(\n",
    "    chunk_size=50,\n",
    "    chunk_overlap=0,\n",
    "    separator=\"\"\n",
    ")\n",
    "\n",
    "split = char_split.split_text(texto_completo)\n",
    "len(split)\n",
    "\n",
    "split"
   ]
  },
  {
   "cell_type": "code",
   "execution_count": 14,
   "metadata": {},
   "outputs": [
    {
     "data": {
      "text/plain": [
       "['Python é uma linguagem de programação de alto',\n",
       " 'de alto nível conhecida por sua simplicidade,',\n",
       " 'legibilidade e versatilidade',\n",
       " '. Seu design foi criado com o objetivo de ser',\n",
       " 'de ser fácil de \\naprender e usar, permitindo que',\n",
       " 'que programadores escrevam código de maneira mais',\n",
       " 'mais \\nintuitiva e eficiente',\n",
       " '. Ao contrário de outras linguagens, Python',\n",
       " 'Python prioriza a \\nlegibilidade do código, o que',\n",
       " 'o que facilita a compreensão e manutenção do',\n",
       " 'do software, \\nmesmo por programadores que não são',\n",
       " 'não são os autores do código original',\n",
       " '. \\nSua sintaxe clara, por exemplo, elimina a',\n",
       " 'elimina a necessidade de muitos símbolos ou',\n",
       " 'ou \\npalavras-chave complicadas, tornando o código',\n",
       " 'o código mais próximo da linguagem humana',\n",
       " '.']"
      ]
     },
     "execution_count": 14,
     "metadata": {},
     "output_type": "execute_result"
    }
   ],
   "source": [
    "from langchain_text_splitters import RecursiveCharacterTextSplitter\n",
    "\n",
    "char_split1 = RecursiveCharacterTextSplitter(\n",
    "    chunk_size=50,\n",
    "    chunk_overlap=10,\n",
    "    separators=[\".\", \" \", \"\"]\n",
    ")\n",
    "\n",
    "split = char_split1.split_text(texto_completo)\n",
    "len(split)\n",
    "\n",
    "split\n"
   ]
  },
  {
   "cell_type": "code",
   "execution_count": 16,
   "metadata": {},
   "outputs": [
    {
     "data": {
      "text/plain": [
       "['Python é uma linguagem de programação de alto nível conhecida por sua simplicidade, \\nlegibilidade e versatilidade. Seu design foi criado com o objetivo de ser fácil de \\naprender e usar, permitindo que programadores escrevam código de maneira mais',\n",
       " 'intuitiva e eficiente. Ao contrário de outras linguagens, Python prioriza a \\nlegibilidade do código, o que facilita a compreensão e manutenção do software, \\nmesmo por programadores que não são os autores do código original.',\n",
       " 'Sua sintaxe clara, por exemplo, elimina a necessidade de muitos símbolos ou \\npalavras-chave complicadas, tornando o código mais próximo da linguagem humana.']"
      ]
     },
     "execution_count": 16,
     "metadata": {},
     "output_type": "execute_result"
    }
   ],
   "source": [
    "\n",
    "char_split = RecursiveCharacterTextSplitter(\n",
    "    chunk_size=250,\n",
    "    chunk_overlap=10,\n",
    "    separators=[\"\\n\\n\",\"\\n\", \" \", \"\"]\n",
    ")\n",
    "\n",
    "split = char_split.split_text(texto_completo)\n",
    "len(split)\n",
    "\n",
    "split"
   ]
  },
  {
   "cell_type": "code",
   "execution_count": 17,
   "metadata": {},
   "outputs": [
    {
     "data": {
      "text/plain": [
       "['\\nPython é uma linguagem de programação de alto nível conhecida por sua simplicidade, \\nlegibilidade e versatilidade. Seu design foi',\n",
       " ' Seu design foi criado com o objetivo de ser fácil de \\naprender e usar, permitindo que programadores escrevam código de maneira mais \\nint',\n",
       " ' mais \\nintuitiva e eficiente. Ao contrário de outras linguagens, Python prioriza a \\nlegibilidade do código, o que facilita a compreensão',\n",
       " 'ita a compreensão e manutenção do software, \\nmesmo por programadores que não são os autores do código original. \\nSua sintaxe clara, por exemplo,',\n",
       " ', por exemplo, elimina a necessidade de muitos símbolos ou \\npalavras-chave complicadas, tornando o código mais próximo da linguagem',\n",
       " 'imo da linguagem humana.\\n']"
      ]
     },
     "execution_count": 17,
     "metadata": {},
     "output_type": "execute_result"
    }
   ],
   "source": [
    "from langchain_text_splitters import TokenTextSplitter\n",
    "\n",
    "char_split = TokenTextSplitter(\n",
    "    chunk_size=50,\n",
    "    chunk_overlap=5\n",
    ")\n",
    "\n",
    "split = char_split.split_text(texto_completo)\n",
    "len(split)\n",
    "\n",
    "split\n"
   ]
  },
  {
   "cell_type": "code",
   "execution_count": 18,
   "metadata": {},
   "outputs": [
    {
     "data": {
      "text/plain": [
       "1129"
      ]
     },
     "execution_count": 18,
     "metadata": {},
     "output_type": "execute_result"
    }
   ],
   "source": [
    "from langchain_community.document_loaders.pdf import PyPDFLoader\n",
    "from langchain_text_splitters import RecursiveCharacterTextSplitter\n",
    "\n",
    "char_split = RecursiveCharacterTextSplitter(\n",
    "    chunk_size=50,\n",
    "    chunk_overlap=10\n",
    ")\n",
    "\n",
    "arquivo = \"../files/apostila.pdf\"\n",
    "loader = PyPDFLoader(arquivo)\n",
    "docs = loader.load()\n",
    "docs[0]\n",
    "\n",
    "split = char_split.split_documents(docs)\n",
    "len(split)"
   ]
  }
 ],
 "metadata": {
  "kernelspec": {
   "display_name": ".venv",
   "language": "python",
   "name": "python3"
  },
  "language_info": {
   "codemirror_mode": {
    "name": "ipython",
    "version": 3
   },
   "file_extension": ".py",
   "mimetype": "text/x-python",
   "name": "python",
   "nbconvert_exporter": "python",
   "pygments_lexer": "ipython3",
   "version": "3.9.6"
  }
 },
 "nbformat": 4,
 "nbformat_minor": 2
}
