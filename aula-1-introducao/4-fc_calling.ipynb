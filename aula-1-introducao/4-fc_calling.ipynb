{
 "cells": [
  {
   "cell_type": "code",
   "execution_count": 1,
   "id": "91344689",
   "metadata": {},
   "outputs": [],
   "source": [
    "import json\n",
    "import openai"
   ]
  },
  {
   "cell_type": "code",
   "execution_count": 2,
   "id": "bcfc0383",
   "metadata": {},
   "outputs": [],
   "source": [
    "client = openai.Client()"
   ]
  },
  {
   "cell_type": "code",
   "execution_count": 4,
   "id": "ec0fda63",
   "metadata": {},
   "outputs": [],
   "source": [
    "def saudacao_por_periodo(hora):\n",
    "    if 5 <= hora < 12:\n",
    "        return json.dumps({\"saudacao\": \"bom dia\"})\n",
    "    elif 12 <= hora < 18:\n",
    "        return json.dumps({\"saudacao\": \"boa tarde\"})\n",
    "    elif 18 <= hora < 22:\n",
    "        return json.dumps({\"saudacao\": \"boa noite\"})\n",
    "    else:\n",
    "        return json.dumps({\"saudacao\": \"boa madrugada\"})"
   ]
  },
  {
   "cell_type": "code",
   "execution_count": 28,
   "id": "6a613adc",
   "metadata": {},
   "outputs": [],
   "source": [
    "tools = [\n",
    "    {\n",
    "        \"type\" : \"function\",\n",
    "        \"function\" : {\n",
    "            \"name\": \"saudacao_por_periodo\",\n",
    "            \"description\" : \"retorna uma saudacao baseada na hora do dia\",\n",
    "            \"parameters\": {\n",
    "                \"type\": \"object\",\n",
    "                \"properties\": {\n",
    "                    \"hora\": {\n",
    "                        \"type\": \"integer\",\n",
    "                        \"description\": \"a hora do dia em formato de 24h\"\n",
    "                    },\n",
    "                },\n",
    "                \"required\": [\"hora\"]\n",
    "            }\n",
    "        }\n",
    "    }\n",
    "]"
   ]
  },
  {
   "cell_type": "code",
   "execution_count": 29,
   "id": "c1b8d76a",
   "metadata": {},
   "outputs": [],
   "source": [
    "funcao_disponivel ={\n",
    "    \"saudacao_por_periodo\" : saudacao_por_periodo\n",
    "}"
   ]
  },
  {
   "cell_type": "code",
   "execution_count": 30,
   "id": "60ad3a6b",
   "metadata": {},
   "outputs": [],
   "source": [
    "mensagens = [{\"role\": \"user\", \"content\": \"Qual a saudacao o modelo me d'a se for 10h?\"}]"
   ]
  },
  {
   "cell_type": "code",
   "execution_count": 31,
   "id": "48bf5539",
   "metadata": {},
   "outputs": [],
   "source": [
    "resposta = client.chat.completions.create(\n",
    "    model = \"gpt-3.5-turbo-0125\",\n",
    "    messages = mensagens,\n",
    "    tools = tools,\n",
    "    tool_choice=\"auto\"\n",
    ")"
   ]
  },
  {
   "cell_type": "code",
   "execution_count": 32,
   "id": "a72177dd",
   "metadata": {},
   "outputs": [
    {
     "data": {
      "text/plain": [
       "ChatCompletionMessage(content=None, refusal=None, role='assistant', annotations=[], audio=None, function_call=None, tool_calls=[ChatCompletionMessageToolCall(id='call_xUiAyuq1qb0mucdffNqWhxRK', function=Function(arguments='{\"hora\":10}', name='saudacao_por_periodo'), type='function')])"
      ]
     },
     "execution_count": 32,
     "metadata": {},
     "output_type": "execute_result"
    }
   ],
   "source": [
    "mensagem_resp = resposta.choices[0].message\n",
    "mensagem_resp"
   ]
  },
  {
   "cell_type": "code",
   "execution_count": 33,
   "id": "4f6d69c7",
   "metadata": {},
   "outputs": [
    {
     "data": {
      "text/plain": [
       "[ChatCompletionMessageToolCall(id='call_xUiAyuq1qb0mucdffNqWhxRK', function=Function(arguments='{\"hora\":10}', name='saudacao_por_periodo'), type='function')]"
      ]
     },
     "execution_count": 33,
     "metadata": {},
     "output_type": "execute_result"
    }
   ],
   "source": [
    "tool_calls = mensagem_resp.tool_calls\n",
    "tool_calls"
   ]
  },
  {
   "cell_type": "code",
   "execution_count": 34,
   "id": "87a4113d",
   "metadata": {},
   "outputs": [],
   "source": [
    "if tool_calls:\n",
    "    mensagens.append(mensagem_resp)\n",
    "    for tool_call in tool_calls:\n",
    "        function_name = tool_call.function.name\n",
    "        function_to_call = funcao_disponivel[function_name]\n",
    "        function_args = json.loads(tool_call.function.arguments)\n",
    "        function_response = function_to_call(\n",
    "            hora = function_args.get(\"hora\")\n",
    "        )\n",
    "\n",
    "        mensagens.append(\n",
    "            {\n",
    "                \"tool_call_id\": tool_call.id,\n",
    "                \"role\": \"tool\",\n",
    "                \"name\": function_name,\n",
    "                \"content\": function_response\n",
    "            }\n",
    "        )\n",
    "\n",
    "    segunda_resposta = client.chat.completions.create(\n",
    "        model=\"gpt-3.5-turbo-0125\",\n",
    "        messages=mensagens,\n",
    "    )\n"
   ]
  },
  {
   "cell_type": "code",
   "execution_count": 35,
   "id": "576a6c2d",
   "metadata": {},
   "outputs": [
    {
     "data": {
      "text/plain": [
       "ChatCompletionMessage(content='A saudação que o modelo me dá às 10h é \"bom dia\".', refusal=None, role='assistant', annotations=[], audio=None, function_call=None, tool_calls=None)"
      ]
     },
     "execution_count": 35,
     "metadata": {},
     "output_type": "execute_result"
    }
   ],
   "source": [
    "mensgem_resposta = segunda_resposta.choices[0].message\n",
    "mensgem_resposta"
   ]
  }
 ],
 "metadata": {
  "kernelspec": {
   "display_name": ".venv",
   "language": "python",
   "name": "python3"
  },
  "language_info": {
   "codemirror_mode": {
    "name": "ipython",
    "version": 3
   },
   "file_extension": ".py",
   "mimetype": "text/x-python",
   "name": "python",
   "nbconvert_exporter": "python",
   "pygments_lexer": "ipython3",
   "version": "3.9.6"
  }
 },
 "nbformat": 4,
 "nbformat_minor": 5
}
