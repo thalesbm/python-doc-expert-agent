{
 "cells": [
  {
   "cell_type": "code",
   "execution_count": 1,
   "id": "f019eea7",
   "metadata": {},
   "outputs": [],
   "source": [
    "import openai\n",
    "client = openai.Client()"
   ]
  },
  {
   "cell_type": "code",
   "execution_count": 2,
   "id": "1a58b6e1",
   "metadata": {},
   "outputs": [],
   "source": [
    "assistant = client.beta.assistants.create(\n",
    "    name=\"Tutor de tecnologia\",\n",
    "    instructions=\"voce e um tutor de tecnologia\",\n",
    "    tools=[{\"type\":\"code_interpreter\"}],\n",
    "    model=\"gpt-3.5-turbo-0125\"\n",
    ")"
   ]
  },
  {
   "cell_type": "code",
   "execution_count": 3,
   "id": "8376adf0",
   "metadata": {},
   "outputs": [],
   "source": [
    "pergunta = \"\"\"\n",
    "em um sistema de cache com mapeamento direto, dado uma memoria principal de uma cache com 256kb e blocos de 64 bytes:\n",
    "- quantas linhas existem na cache?\n",
    "- onde o bloco de endere'co 0x1A23C ser'a mapeado na cache?\n",
    "\"\"\""
   ]
  },
  {
   "cell_type": "code",
   "execution_count": 4,
   "id": "877b0844",
   "metadata": {},
   "outputs": [
    {
     "name": "stderr",
     "output_type": "stream",
     "text": [
      "/var/folders/r0/0gsh5dcn7ng1klbp40qqng1r0000gn/T/ipykernel_35560/3685932091.py:1: DeprecationWarning: The Assistants API is deprecated in favor of the Responses API\n",
      "  thread = client.beta.threads.create()\n",
      "/var/folders/r0/0gsh5dcn7ng1klbp40qqng1r0000gn/T/ipykernel_35560/3685932091.py:2: DeprecationWarning: The Assistants API is deprecated in favor of the Responses API\n",
      "  message = client.beta.threads.messages.create(\n"
     ]
    }
   ],
   "source": [
    "thread = client.beta.threads.create()\n",
    "message = client.beta.threads.messages.create(\n",
    "    thread_id = thread.id,\n",
    "    role = \"user\",\n",
    "    content = pergunta\n",
    ")"
   ]
  },
  {
   "cell_type": "code",
   "execution_count": 6,
   "id": "3dacde39",
   "metadata": {},
   "outputs": [
    {
     "name": "stderr",
     "output_type": "stream",
     "text": [
      "/var/folders/r0/0gsh5dcn7ng1klbp40qqng1r0000gn/T/ipykernel_35560/1425272816.py:1: DeprecationWarning: The Assistants API is deprecated in favor of the Responses API\n",
      "  run = client.beta.threads.runs.create(\n"
     ]
    }
   ],
   "source": [
    "run = client.beta.threads.runs.create(\n",
    "    thread_id = thread.id,\n",
    "    assistant_id = assistant.id,\n",
    "    instructions = \"Nome do usuario premium\"\n",
    ")"
   ]
  },
  {
   "cell_type": "code",
   "execution_count": 8,
   "id": "8c6b98a5",
   "metadata": {},
   "outputs": [
    {
     "data": {
      "text/plain": [
       "'queued'"
      ]
     },
     "execution_count": 8,
     "metadata": {},
     "output_type": "execute_result"
    }
   ],
   "source": [
    "run.status"
   ]
  },
  {
   "cell_type": "code",
   "execution_count": 12,
   "id": "6ab4ac12",
   "metadata": {},
   "outputs": [
    {
     "name": "stderr",
     "output_type": "stream",
     "text": [
      "/var/folders/r0/0gsh5dcn7ng1klbp40qqng1r0000gn/T/ipykernel_35560/3813918421.py:4: DeprecationWarning: The Assistants API is deprecated in favor of the Responses API\n",
      "  run = client.beta.threads.runs.retrieve(\n"
     ]
    }
   ],
   "source": [
    "import time\n",
    "while run.status in [\"queued\", \"in_progress\", \"cancelling\"]:\n",
    "    time.sleep(1)\n",
    "    run = client.beta.threads.runs.retrieve(\n",
    "        thread_id = thread.id,\n",
    "        run_id = run.id\n",
    "    )"
   ]
  },
  {
   "cell_type": "code",
   "execution_count": 13,
   "id": "2242846d",
   "metadata": {},
   "outputs": [
    {
     "name": "stderr",
     "output_type": "stream",
     "text": [
      "/var/folders/r0/0gsh5dcn7ng1klbp40qqng1r0000gn/T/ipykernel_35560/2724595620.py:2: DeprecationWarning: The Assistants API is deprecated in favor of the Responses API\n",
      "  mensagens = client.beta.threads.messages.list(\n"
     ]
    },
    {
     "name": "stdout",
     "output_type": "stream",
     "text": [
      "SyncCursorPage[Message](data=[Message(id='msg_jM1hgrIsvu9ClkXZdB1kU2Ip', assistant_id='asst_8whpxwfFRgy3hi90WwSe9Adc', attachments=[], completed_at=None, content=[TextContentBlock(text=Text(annotations=[], value='Você quer que eu explique de outra forma ou te ajude em algo mais?'), type='text')], created_at=1750541846, incomplete_at=None, incomplete_details=None, metadata={}, object='thread.message', role='assistant', run_id='run_dGVd8zr6s0gBvivZ3vLYtqTy', status=None, thread_id='thread_4pgsPfzxNR7GPwcXATCV9G5K'), Message(id='msg_vPj96xcwOSciJ7kFDBTHb3Pq', assistant_id='asst_8whpxwfFRgy3hi90WwSe9Adc', attachments=[], completed_at=None, content=[TextContentBlock(text=Text(annotations=[], value='Posso lhe ajudar com mais alguma coisa?'), type='text')], created_at=1750541825, incomplete_at=None, incomplete_details=None, metadata={}, object='thread.message', role='assistant', run_id='run_crxoUXCqVX9tcM52VBO97NXm', status=None, thread_id='thread_4pgsPfzxNR7GPwcXATCV9G5K'), Message(id='msg_r7Y9M5j9lL7gkLe5J8k0MtVA', assistant_id='asst_8whpxwfFRgy3hi90WwSe9Adc', attachments=[], completed_at=None, content=[TextContentBlock(text=Text(annotations=[], value=\"O índice da linha na cache para o endereço 0x1A23C é '000110100010'.\\n\\nIsso significa que o bloco de endereço 0x1A23C será mapeado na linha de índice '000110100010' na cache.\\n\\nSe precisar de mais alguma ajuda, estarei por aqui.\"), type='text')], created_at=1750541754, incomplete_at=None, incomplete_details=None, metadata={}, object='thread.message', role='assistant', run_id='run_8aKanUgCzu0ECo4CwKrlMEj6', status=None, thread_id='thread_4pgsPfzxNR7GPwcXATCV9G5K'), Message(id='msg_Reww6FkfuY82PoxB5ryh7qbD', assistant_id='asst_8whpxwfFRgy3hi90WwSe9Adc', attachments=[], completed_at=None, content=[TextContentBlock(text=Text(annotations=[], value='A cache terá 4096 linhas.\\n\\nAgora, vamos determinar onde o bloco de endereço 0x1A23C será mapeado na cache:\\n\\n1. O endereço 0x1A23C é representado em binário por 0001 1010 0010 0011 1100.\\n\\n2. Como a cache tem 4096 linhas, precisamos de 12 bits (2^12 = 4096) para endereçar cada linha.\\n\\n3. Dividimos o endereço em partes: os primeiros 12 bits representarão o índice da linha na cache, enquanto os bits restantes serão usados para identificar o byte dentro do bloco.\\n\\n4. Portanto, os primeiros 12 bits de 0x1A23C serão usados para encontrar a linha correspondente na cache. Vamos verificar qual é esse índice.'), type='text')], created_at=1750541750, incomplete_at=None, incomplete_details=None, metadata={}, object='thread.message', role='assistant', run_id='run_8aKanUgCzu0ECo4CwKrlMEj6', status=None, thread_id='thread_4pgsPfzxNR7GPwcXATCV9G5K'), Message(id='msg_YNeQafg822xLnSqUIBWdVaXS', assistant_id='asst_8whpxwfFRgy3hi90WwSe9Adc', attachments=[], completed_at=None, content=[TextContentBlock(text=Text(annotations=[], value='Para calcular o número de linhas na cache, precisamos dividir o tamanho da cache pela quantidade de bytes por bloco. Esse valor nos dará a quantidade de linhas na cache.\\n\\nPara descobrir onde o bloco de endereço 0x1A23C será mapeado na cache, precisamos analisar os bits relevantes do endereço e aplicar a técnica de mapeamento direto.\\n\\nPrimeiro, vamos calcular o número de linhas na cache:'), type='text')], created_at=1750541745, incomplete_at=None, incomplete_details=None, metadata={}, object='thread.message', role='assistant', run_id='run_8aKanUgCzu0ECo4CwKrlMEj6', status=None, thread_id='thread_4pgsPfzxNR7GPwcXATCV9G5K'), Message(id='msg_izJe3yoROAm9bEI4bP338Uty', assistant_id=None, attachments=[], completed_at=None, content=[TextContentBlock(text=Text(annotations=[], value=\"\\nem um sistema de cache com mapeamento direto, dado uma memoria principal de uma cache com 256kb e blocos de 64 bytes:\\n- quantas linhas existem na cache?\\n- onde o bloco de endere'co 0x1A23C ser'a mapeado na cache?\\n\"), type='text')], created_at=1750541670, incomplete_at=None, incomplete_details=None, metadata={}, object='thread.message', role='user', run_id=None, status=None, thread_id='thread_4pgsPfzxNR7GPwcXATCV9G5K')], has_more=False, object='list', first_id='msg_jM1hgrIsvu9ClkXZdB1kU2Ip', last_id='msg_izJe3yoROAm9bEI4bP338Uty')\n"
     ]
    }
   ],
   "source": [
    "if run.status == \"completed\":\n",
    "    mensagens = client.beta.threads.messages.list(\n",
    "        thread_id = thread.id\n",
    "    )\n",
    "    print(mensagens)\n",
    "else:\n",
    "    print(\"error\")"
   ]
  },
  {
   "cell_type": "code",
   "execution_count": 14,
   "id": "dc77e5f4",
   "metadata": {},
   "outputs": [
    {
     "name": "stdout",
     "output_type": "stream",
     "text": [
      "Você quer que eu explique de outra forma ou te ajude em algo mais?\n"
     ]
    }
   ],
   "source": [
    "print(mensagens.data[0].content[0].text.value)"
   ]
  },
  {
   "cell_type": "code",
   "execution_count": 15,
   "id": "e0e84968",
   "metadata": {},
   "outputs": [
    {
     "name": "stderr",
     "output_type": "stream",
     "text": [
      "/var/folders/r0/0gsh5dcn7ng1klbp40qqng1r0000gn/T/ipykernel_35560/4111607825.py:1: DeprecationWarning: The Assistants API is deprecated in favor of the Responses API\n",
      "  runsteps = client.beta.threads.runs.steps.list(\n"
     ]
    }
   ],
   "source": [
    "runsteps = client.beta.threads.runs.steps.list(\n",
    "    thread_id = thread.id,\n",
    "    run_id = run.id\n",
    ")"
   ]
  }
 ],
 "metadata": {
  "kernelspec": {
   "display_name": ".venv",
   "language": "python",
   "name": "python3"
  },
  "language_info": {
   "codemirror_mode": {
    "name": "ipython",
    "version": 3
   },
   "file_extension": ".py",
   "mimetype": "text/x-python",
   "name": "python",
   "nbconvert_exporter": "python",
   "pygments_lexer": "ipython3",
   "version": "3.9.6"
  }
 },
 "nbformat": 4,
 "nbformat_minor": 5
}
