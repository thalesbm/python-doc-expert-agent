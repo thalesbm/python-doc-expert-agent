{
 "cells": [
  {
   "cell_type": "code",
   "execution_count": 1,
   "metadata": {},
   "outputs": [
    {
     "name": "stderr",
     "output_type": "stream",
     "text": [
      "/Users/thalesmarega/Documents/thalesmarega/workspace-python/estudos-agents/.venv/lib/python3.9/site-packages/urllib3/__init__.py:35: NotOpenSSLWarning: urllib3 v2 only supports OpenSSL 1.1.1+, currently the 'ssl' module is compiled with 'LibreSSL 2.8.3'. See: https://github.com/urllib3/urllib3/issues/3020\n",
      "  warnings.warn(\n"
     ]
    },
    {
     "data": {
      "text/plain": [
       "{'name': 'Sentiment',\n",
       " 'description': 'Define o sentimento e o idioma da mensagem enviada',\n",
       " 'parameters': {'type': 'object',\n",
       "  'properties': {'sentimento': {'description': \"Sentimento do Texto. Deve ser 'pos', 'neg' ou 'nt' para não definido\",\n",
       "    'type': 'string'},\n",
       "   'lingua': {'description': 'Língua que o texto foi escrito (deve estar no charset UTF-8)',\n",
       "    'type': 'string'}},\n",
       "  'required': ['sentimento', 'lingua']}}"
      ]
     },
     "execution_count": 1,
     "metadata": {},
     "output_type": "execute_result"
    }
   ],
   "source": [
    "from langchain.pydantic_v1 import BaseModel, Field\n",
    "from langchain_core.utils.function_calling import convert_to_openai_function\n",
    "\n",
    "class Sentiment(BaseModel):\n",
    "    \"\"\"Define o sentimento e o idioma da mensagem enviada\"\"\"\n",
    "    sentimento: str = Field(description=\"Sentimento do Texto. Deve ser 'pos', 'neg' ou 'nt' para não definido\")\n",
    "    lingua: str = Field(description=\"Língua que o texto foi escrito (deve estar no charset UTF-8)\")\n",
    "    \n",
    "tool_sentimento = convert_to_openai_function(Sentiment)\n",
    "tool_sentimento"
   ]
  },
  {
   "cell_type": "code",
   "execution_count": 4,
   "metadata": {},
   "outputs": [
    {
     "data": {
      "text/plain": [
       "AIMessage(content='', additional_kwargs={'function_call': {'arguments': '{\"sentimento\":\"pos\",\"lingua\":\"portuguese\"}', 'name': 'Sentiment'}}, response_metadata={'token_usage': {'completion_tokens': 13, 'prompt_tokens': 137, 'total_tokens': 150, 'completion_tokens_details': {'accepted_prediction_tokens': 0, 'audio_tokens': 0, 'reasoning_tokens': 0, 'rejected_prediction_tokens': 0}, 'prompt_tokens_details': {'audio_tokens': 0, 'cached_tokens': 0}}, 'model_name': 'gpt-3.5-turbo', 'system_fingerprint': None, 'finish_reason': 'stop', 'logprobs': None}, id='run-9bfa7700-b6a8-4d58-a765-15487b51b32c-0')"
      ]
     },
     "execution_count": 4,
     "metadata": {},
     "output_type": "execute_result"
    }
   ],
   "source": [
    "from langchain.prompts import ChatPromptTemplate\n",
    "from langchain_openai import ChatOpenAI\n",
    "\n",
    "prompt = ChatPromptTemplate.from_messages([\n",
    "    (\"system\", \"Analise o texto e categorize-o conforme as instruções\"),\n",
    "    (\"user\", \"{input}\")\n",
    "])\n",
    "\n",
    "chat = ChatOpenAI()\n",
    "\n",
    "texto = \"Eu gosto muito de pizza nordestina\"\n",
    "\n",
    "chain = prompt | chat.bind(functions=[tool_sentimento], \n",
    "                           function_call={\"name\": \"Sentiment\"})\n",
    "\n",
    "chain.invoke({\"input\": texto})"
   ]
  },
  {
   "cell_type": "code",
   "execution_count": 5,
   "metadata": {},
   "outputs": [
    {
     "data": {
      "text/plain": [
       "AIMessage(content='', additional_kwargs={'function_call': {'arguments': '{\"sentimento\":\"nt\",\"lingua\":\"en\"}', 'name': 'Sentiment'}}, response_metadata={'token_usage': {'completion_tokens': 11, 'prompt_tokens': 134, 'total_tokens': 145, 'completion_tokens_details': {'accepted_prediction_tokens': 0, 'audio_tokens': 0, 'reasoning_tokens': 0, 'rejected_prediction_tokens': 0}, 'prompt_tokens_details': {'audio_tokens': 0, 'cached_tokens': 0}}, 'model_name': 'gpt-3.5-turbo', 'system_fingerprint': None, 'finish_reason': 'stop', 'logprobs': None}, id='run-9784e457-4466-4a85-a892-6ae4fd3b234e-0')"
      ]
     },
     "execution_count": 5,
     "metadata": {},
     "output_type": "execute_result"
    }
   ],
   "source": [
    "chain.invoke({\"input\": \"May the Force be with you\"})"
   ]
  },
  {
   "cell_type": "markdown",
   "metadata": {},
   "source": [
    "### Categorização de Texto"
   ]
  },
  {
   "cell_type": "code",
   "execution_count": 6,
   "metadata": {},
   "outputs": [
    {
     "data": {
      "text/plain": [
       "{'name': 'DirecionaSuporte',\n",
       " 'description': 'Direciona a solicitação de suporte para o setor responsável',\n",
       " 'parameters': {'type': 'object',\n",
       "  'properties': {'setor': {'description': 'An enumeration.',\n",
       "    'enum': ['suporte_hardware',\n",
       "     'suporte_software',\n",
       "     'suporte_conta',\n",
       "     'outros'],\n",
       "    'type': 'string'}},\n",
       "  'required': ['setor']}}"
      ]
     },
     "execution_count": 6,
     "metadata": {},
     "output_type": "execute_result"
    }
   ],
   "source": [
    "solicitacoes = [\n",
    "    \"Meu computador está travando toda vez que tento abrir um programa. O que devo fazer?\",\n",
    "    \"Não consigo acessar minha conta. A senha não está funcionando!\",\n",
    "    \"Estou tendo dificuldades para instalar o software de design gráfico. Pode me ajudar?\",\n",
    "    \"Gostaria de saber como atualizar meu endereço de entrega na plataforma.\",\n",
    "    \"O meu laptop não está ligando. Acho que é um problema no cabo de energia.\",\n",
    "    \"Não consigo ver meus arquivos no aplicativo. Existe alguma solução?\"\n",
    "]\n",
    "\n",
    "from enum import Enum\n",
    "from langchain.pydantic_v1 import BaseModel, Field\n",
    "from langchain_core.utils.function_calling import convert_to_openai_function\n",
    "\n",
    "class SetorEnum(str, Enum):\n",
    "    suporte_hardware = \"suporte_hardware\"\n",
    "    suporte_software = \"suporte_software\"\n",
    "    suporte_conta = \"suporte_conta\"\n",
    "    outros = \"outros\"\n",
    "    \n",
    "class DirecionaSuporte(BaseModel):\n",
    "    \"\"\"Direciona a solicitação de suporte para o setor responsável\"\"\"\n",
    "    setor: SetorEnum\n",
    "\n",
    "tool_direcionamento_suporte = convert_to_openai_function(DirecionaSuporte)\n",
    "tool_direcionamento_suporte"
   ]
  },
  {
   "cell_type": "code",
   "execution_count": 7,
   "metadata": {},
   "outputs": [
    {
     "name": "stdout",
     "output_type": "stream",
     "text": [
      "Solicitação: Meu computador está travando toda vez que tento abrir um programa. O que devo fazer?\n",
      "Resposta: {'setor': 'suporte_software'}\n"
     ]
    }
   ],
   "source": [
    "from langchain.prompts import ChatPromptTemplate\n",
    "from langchain_openai import ChatOpenAI\n",
    "from langchain.output_parsers.openai_functions import JsonOutputFunctionsParser\n",
    "\n",
    "# Criar o prompt com as instruções detalhadas para o modelo\n",
    "system_message = '''Pense com cuidado ao categorizar o texto conforme as instruções.\n",
    "Questões relacionadas a problemas de hardware, como falha no computador, laptop ou \n",
    "outros dispositivos físicos devem ser direcionadas para \"suporte_hardware\".\n",
    "Questões relacionadas a problemas com software, como instalação, erros ao abrir programas, \n",
    "etc., devem ser direcionadas para \"suporte_software\".\n",
    "Problemas relacionados ao acesso de conta, como recuperação de senha, problemas de login, \n",
    "devem ser direcionados para \"suporte_conta\".\n",
    "Mensagens que não se encaixam nessas categorias devem ser direcionadas para \"outros\".\n",
    "'''\n",
    "\n",
    "prompt = ChatPromptTemplate.from_messages([\n",
    "    (\"system\", system_message),\n",
    "    (\"user\", \"{input}\")\n",
    "])\n",
    "\n",
    "chat = ChatOpenAI()\n",
    "\n",
    "chain = (prompt | chat.bind(functions=[tool_direcionamento_suporte],\n",
    "                            function_call={\"name\":\"DirecionaSuporte\"})\n",
    "         | JsonOutputFunctionsParser())\n",
    "\n",
    "solicitacao = solicitacoes[0]\n",
    "resposta = chain.invoke({\"input\": solicitacao})\n",
    "print(f\"Solicitação: {solicitacao}\")\n",
    "print(f\"Resposta: {resposta}\")"
   ]
  },
  {
   "cell_type": "code",
   "execution_count": 8,
   "metadata": {},
   "outputs": [
    {
     "name": "stdout",
     "output_type": "stream",
     "text": [
      "Solicitação: Gostaria de saber como atualizar meu endereço de entrega na plataforma.\n",
      "Resposta: {'setor': 'suporte_conta'}\n"
     ]
    }
   ],
   "source": [
    "solicitacao = solicitacoes[3]\n",
    "resposta = chain.invoke({\"input\": solicitacao})\n",
    "print(f\"Solicitação: {solicitacao}\")\n",
    "print(f\"Resposta: {resposta}\")"
   ]
  },
  {
   "cell_type": "code",
   "execution_count": 9,
   "metadata": {},
   "outputs": [
    {
     "name": "stdout",
     "output_type": "stream",
     "text": [
      "Solicitação: O meu laptop não está ligando. Acho que é um problema no cabo de energia.\n",
      "Resposta: {'setor': 'suporte_hardware'}\n"
     ]
    }
   ],
   "source": [
    "solicitacao = solicitacoes[4]\n",
    "resposta = chain.invoke({\"input\": solicitacao})\n",
    "print(f\"Solicitação: {solicitacao}\")\n",
    "print(f\"Resposta: {resposta}\")"
   ]
  }
 ],
 "metadata": {
  "kernelspec": {
   "display_name": ".venv",
   "language": "python",
   "name": "python3"
  },
  "language_info": {
   "codemirror_mode": {
    "name": "ipython",
    "version": 3
   },
   "file_extension": ".py",
   "mimetype": "text/x-python",
   "name": "python",
   "nbconvert_exporter": "python",
   "pygments_lexer": "ipython3",
   "version": "3.9.6"
  }
 },
 "nbformat": 4,
 "nbformat_minor": 2
}
