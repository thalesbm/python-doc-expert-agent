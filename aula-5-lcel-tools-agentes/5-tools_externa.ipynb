{
 "cells": [
  {
   "cell_type": "code",
   "execution_count": 2,
   "metadata": {},
   "outputs": [
    {
     "ename": "ModuleNotFoundError",
     "evalue": "No module named 'wikipedia'",
     "output_type": "error",
     "traceback": [
      "\u001b[0;31m---------------------------------------------------------------------------\u001b[0m",
      "\u001b[0;31mModuleNotFoundError\u001b[0m                       Traceback (most recent call last)",
      "Cell \u001b[0;32mIn[2], line 1\u001b[0m\n\u001b[0;32m----> 1\u001b[0m \u001b[38;5;28;01mimport\u001b[39;00m\u001b[38;5;250m \u001b[39m\u001b[38;5;21;01mwikipedia\u001b[39;00m\n\u001b[1;32m      2\u001b[0m \u001b[38;5;28;01mfrom\u001b[39;00m\u001b[38;5;250m \u001b[39m\u001b[38;5;21;01mlangchain\u001b[39;00m\u001b[38;5;21;01m.\u001b[39;00m\u001b[38;5;21;01magents\u001b[39;00m\u001b[38;5;250m \u001b[39m\u001b[38;5;28;01mimport\u001b[39;00m tool\n\u001b[1;32m      4\u001b[0m wikipedia\u001b[38;5;241m.\u001b[39mset_lang(\u001b[38;5;124m\"\u001b[39m\u001b[38;5;124mpt\u001b[39m\u001b[38;5;124m\"\u001b[39m)\n",
      "\u001b[0;31mModuleNotFoundError\u001b[0m: No module named 'wikipedia'"
     ]
    }
   ],
   "source": [
    "import wikipedia\n",
    "from langchain.agents import tool\n",
    "\n",
    "wikipedia.set_lang(\"pt\")\n",
    "\n",
    "@tool\n",
    "def busca_wikipedia(query: str):\n",
    "    \"\"\"Busca dados no wikipedia e retorna resumos de páginas para a query\"\"\"\n",
    "    titulo_paginas = wikipedia.search(query)\n",
    "    resumos = []\n",
    "    for titulo in titulo_paginas[:3]:\n",
    "        try:\n",
    "            wiki_page = wikipedia.page(title=titulo, auto_suggest=True)\n",
    "            resumos.append(f\"Título: {titulo}\\nResumo: {wiki_page.summary}\")\n",
    "        except:\n",
    "            pass\n",
    "    if not resumos:\n",
    "        return \"Busca não teve retorno\"\n",
    "    else:\n",
    "        return \"\\n\\n\".join(resumos)\n",
    "    \n",
    "busca_wikipedia.invoke({\"query\": \"langchain\"})"
   ]
  },
  {
   "cell_type": "code",
   "execution_count": null,
   "metadata": {},
   "outputs": [],
   "source": [
    "from langchain.prompts import ChatPromptTemplate\n",
    "from langchain_openai import ChatOpenAI\n",
    "from langchain_core.utils.function_calling import convert_to_openai_function\n",
    "\n",
    "prompt = ChatPromptTemplate.from_messages([\n",
    "    (\"system\", \"Você é um assistente que sabe sobre futebol\"),\n",
    "    (\"user\", \"{input}\")\n",
    "])\n",
    "\n",
    "chat = ChatOpenAI()\n",
    "\n",
    "tools = [convert_to_openai_function(busca_wikipedia)]\n",
    "\n",
    "chain = prompt | chat.bind(functions=tools)\n"
   ]
  },
  {
   "cell_type": "code",
   "execution_count": null,
   "metadata": {},
   "outputs": [
    {
     "data": {
      "text/plain": [
       "AIMessage(content='Olá! Como posso te ajudar hoje?', response_metadata={'token_usage': {'completion_tokens': 13, 'prompt_tokens': 78, 'total_tokens': 91, 'completion_tokens_details': {'accepted_prediction_tokens': 0, 'audio_tokens': 0, 'reasoning_tokens': 0, 'rejected_prediction_tokens': 0}, 'prompt_tokens_details': {'audio_tokens': 0, 'cached_tokens': 0}}, 'model_name': 'gpt-3.5-turbo', 'system_fingerprint': None, 'finish_reason': 'stop', 'logprobs': None}, id='run-7f40afd9-1c36-44ee-b8b8-784980de1b2c-0')"
      ]
     },
     "execution_count": 8,
     "metadata": {},
     "output_type": "execute_result"
    }
   ],
   "source": [
    "chain.invoke({\"input\": \"olá\"})"
   ]
  },
  {
   "cell_type": "code",
   "execution_count": 10,
   "metadata": {},
   "outputs": [
    {
     "data": {
      "text/plain": [
       "AIMessage(content='Tanto Ronaldinho Gaúcho quanto Messi são jogadores incríveis e considerados dois dos melhores da história do futebol. Ronaldinho Gaúcho foi um jogador excepcional, conhecido por sua habilidade, criatividade e alegria em campo. Já Messi é considerado um dos maiores jogadores de todos os tempos, com um talento extraordinário e inúmeras conquistas individuais e coletivas.\\n\\nÉ difícil dizer quem foi melhor, pois são jogadores diferentes, com estilos de jogo distintos. Ronaldinho Gaúcho teve um impacto enorme no futebol durante sua carreira, enquanto Messi continua a brilhar nos gramados até hoje.\\n\\nSe quiser, posso buscar mais informações sobre ambos os jogadores. Posso buscar informações sobre suas carreiras, conquistas e estatísticas. O que acha?', response_metadata={'token_usage': {'completion_tokens': 187, 'prompt_tokens': 90, 'total_tokens': 277, 'completion_tokens_details': {'accepted_prediction_tokens': 0, 'audio_tokens': 0, 'reasoning_tokens': 0, 'rejected_prediction_tokens': 0}, 'prompt_tokens_details': {'audio_tokens': 0, 'cached_tokens': 0}}, 'model_name': 'gpt-3.5-turbo', 'system_fingerprint': None, 'finish_reason': 'stop', 'logprobs': None}, id='run-119646e3-fc10-4032-8153-345fa746985c-0')"
      ]
     },
     "execution_count": 10,
     "metadata": {},
     "output_type": "execute_result"
    }
   ],
   "source": [
    "chain.invoke({\"input\": \"Quem foi melhor ROnaldinho Gaúcho ou Messi?\"})"
   ]
  }
 ],
 "metadata": {
  "kernelspec": {
   "display_name": ".venv",
   "language": "python",
   "name": "python3"
  },
  "language_info": {
   "codemirror_mode": {
    "name": "ipython",
    "version": 3
   },
   "file_extension": ".py",
   "mimetype": "text/x-python",
   "name": "python",
   "nbconvert_exporter": "python",
   "pygments_lexer": "ipython3",
   "version": "3.9.6"
  }
 },
 "nbformat": 4,
 "nbformat_minor": 2
}
