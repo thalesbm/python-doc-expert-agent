{
 "cells": [
  {
   "cell_type": "code",
   "execution_count": 1,
   "metadata": {},
   "outputs": [
    {
     "ename": "ModuleNotFoundError",
     "evalue": "No module named 'langchain_experimental'",
     "output_type": "error",
     "traceback": [
      "\u001b[0;31m---------------------------------------------------------------------------\u001b[0m",
      "\u001b[0;31mModuleNotFoundError\u001b[0m                       Traceback (most recent call last)",
      "Cell \u001b[0;32mIn[1], line 2\u001b[0m\n\u001b[1;32m      1\u001b[0m \u001b[38;5;28;01mimport\u001b[39;00m\u001b[38;5;250m \u001b[39m\u001b[38;5;21;01mpandas\u001b[39;00m\u001b[38;5;250m \u001b[39m\u001b[38;5;28;01mas\u001b[39;00m\u001b[38;5;250m \u001b[39m\u001b[38;5;21;01mpd\u001b[39;00m\n\u001b[0;32m----> 2\u001b[0m \u001b[38;5;28;01mfrom\u001b[39;00m\u001b[38;5;250m \u001b[39m\u001b[38;5;21;01mlangchain_experimental\u001b[39;00m\u001b[38;5;21;01m.\u001b[39;00m\u001b[38;5;21;01magents\u001b[39;00m\u001b[38;5;21;01m.\u001b[39;00m\u001b[38;5;21;01magent_toolkits\u001b[39;00m\u001b[38;5;250m \u001b[39m\u001b[38;5;28;01mimport\u001b[39;00m create_pandas_dataframe_agent\n\u001b[1;32m      3\u001b[0m \u001b[38;5;28;01mfrom\u001b[39;00m\u001b[38;5;250m \u001b[39m\u001b[38;5;21;01mlangchain_openai\u001b[39;00m\u001b[38;5;250m \u001b[39m\u001b[38;5;28;01mimport\u001b[39;00m ChatOpenAI\n",
      "\u001b[0;31mModuleNotFoundError\u001b[0m: No module named 'langchain_experimental'"
     ]
    }
   ],
   "source": [
    "import pandas as pd\n",
    "from langchain_experimental.agents.agent_toolkits import create_pandas_dataframe_agent\n",
    "from langchain_openai import ChatOpenAI"
   ]
  },
  {
   "cell_type": "code",
   "execution_count": 2,
   "metadata": {},
   "outputs": [
    {
     "data": {
      "text/html": [
       "<div>\n",
       "<style scoped>\n",
       "    .dataframe tbody tr th:only-of-type {\n",
       "        vertical-align: middle;\n",
       "    }\n",
       "\n",
       "    .dataframe tbody tr th {\n",
       "        vertical-align: top;\n",
       "    }\n",
       "\n",
       "    .dataframe thead th {\n",
       "        text-align: right;\n",
       "    }\n",
       "</style>\n",
       "<table border=\"1\" class=\"dataframe\">\n",
       "  <thead>\n",
       "    <tr style=\"text-align: right;\">\n",
       "      <th></th>\n",
       "      <th>Source</th>\n",
       "      <th>Year</th>\n",
       "      <th>Mean</th>\n",
       "    </tr>\n",
       "  </thead>\n",
       "  <tbody>\n",
       "    <tr>\n",
       "      <th>0</th>\n",
       "      <td>gcag</td>\n",
       "      <td>1850</td>\n",
       "      <td>-0.4177</td>\n",
       "    </tr>\n",
       "    <tr>\n",
       "      <th>1</th>\n",
       "      <td>gcag</td>\n",
       "      <td>1851</td>\n",
       "      <td>-0.2333</td>\n",
       "    </tr>\n",
       "    <tr>\n",
       "      <th>2</th>\n",
       "      <td>gcag</td>\n",
       "      <td>1852</td>\n",
       "      <td>-0.2294</td>\n",
       "    </tr>\n",
       "    <tr>\n",
       "      <th>3</th>\n",
       "      <td>gcag</td>\n",
       "      <td>1853</td>\n",
       "      <td>-0.2704</td>\n",
       "    </tr>\n",
       "    <tr>\n",
       "      <th>4</th>\n",
       "      <td>gcag</td>\n",
       "      <td>1854</td>\n",
       "      <td>-0.2915</td>\n",
       "    </tr>\n",
       "  </tbody>\n",
       "</table>\n",
       "</div>"
      ],
      "text/plain": [
       "  Source  Year    Mean\n",
       "0   gcag  1850 -0.4177\n",
       "1   gcag  1851 -0.2333\n",
       "2   gcag  1852 -0.2294\n",
       "3   gcag  1853 -0.2704\n",
       "4   gcag  1854 -0.2915"
      ]
     },
     "execution_count": 2,
     "metadata": {},
     "output_type": "execute_result"
    }
   ],
   "source": [
    "df_temp = pd.read_csv(\"https://datahub.io/core/global-temp/r/0.csv\")\n",
    "df_temp.head()"
   ]
  },
  {
   "cell_type": "code",
   "execution_count": 3,
   "metadata": {},
   "outputs": [],
   "source": [
    "chat = ChatOpenAI(model=\"gpt-3.5-turbo-0125\")\n",
    "\n",
    "agent_temp = create_pandas_dataframe_agent(\n",
    "    chat,\n",
    "    df_temp,\n",
    "    verbose=True,\n",
    "    agent_type=\"tool-calling\"\n",
    ")"
   ]
  },
  {
   "cell_type": "code",
   "execution_count": 4,
   "metadata": {},
   "outputs": [
    {
     "name": "stdout",
     "output_type": "stream",
     "text": [
      "\n",
      "\n",
      "\u001b[1m> Entering new AgentExecutor chain...\u001b[0m\n",
      "\u001b[32;1m\u001b[1;3m\n",
      "Invoking: `python_repl_ast` with `{'query': \"df[df['Year'] == df['Year'].max()]['Mean'].values[0]\"}`\n",
      "\n",
      "\n",
      "\u001b[0m\u001b[36;1m\u001b[1;3m1.1755\u001b[0m\u001b[32;1m\u001b[1;3mA temperatura média global do último ano registrada nos dados é de 1.1755.\u001b[0m\n",
      "\n",
      "\u001b[1m> Finished chain.\u001b[0m\n",
      "{'input': 'Qual a temperatura média global do último ano?', 'output': 'A temperatura média global do último ano registrada nos dados é de 1.1755.'}\n"
     ]
    }
   ],
   "source": [
    "# 1- Qual temperatura média global do último ano\n",
    "resposta = agent_temp.invoke({\"input\":\"Qual a temperatura média global do último ano?\"})\n",
    "print(resposta)"
   ]
  },
  {
   "cell_type": "code",
   "execution_count": 5,
   "metadata": {},
   "outputs": [
    {
     "name": "stdout",
     "output_type": "stream",
     "text": [
      "\n",
      "\n",
      "\u001b[1m> Entering new AgentExecutor chain...\u001b[0m\n",
      "\u001b[32;1m\u001b[1;3m\n",
      "Invoking: `python_repl_ast` with `{'query': \"df[df['Mean'] == df['Mean'].max()]['Year'].values[0]\"}`\n",
      "\n",
      "\n",
      "\u001b[0m\u001b[36;1m\u001b[1;3m2024\u001b[0m\u001b[32;1m\u001b[1;3mO ano com a maior temperatura média registrada no dataframe foi 2024.\u001b[0m\n",
      "\n",
      "\u001b[1m> Finished chain.\u001b[0m\n",
      "{'input': 'Qual foi o ano com maior temperatura média?', 'output': 'O ano com a maior temperatura média registrada no dataframe foi 2024.'}\n"
     ]
    }
   ],
   "source": [
    "# 2- QUal foi o ano com a maior temperatura média?\n",
    "resposta = agent_temp.invoke({\"input\":\"Qual foi o ano com maior temperatura média?\"})\n",
    "print(resposta)"
   ]
  },
  {
   "cell_type": "code",
   "execution_count": 6,
   "metadata": {},
   "outputs": [],
   "source": [
    "from langchain_community.utilities.sql_database import SQLDatabase\n",
    "from langchain_community.agent_toolkits.sql.base import create_sql_agent\n",
    "from langchain_openai import ChatOpenAI"
   ]
  },
  {
   "cell_type": "code",
   "execution_count": 7,
   "metadata": {},
   "outputs": [],
   "source": [
    "db_sakila = SQLDatabase.from_uri(\"sqlite:///files/sakila_master.db\")\n",
    "\n",
    "chat = ChatOpenAI(model=\"gpt-3.5-turbo-0125\")\n",
    "\n",
    "agent_executor_sakila = create_sql_agent(\n",
    "    chat,\n",
    "    db=db_sakila,\n",
    "    agent_type=\"tool-calling\",\n",
    "    verbose=True\n",
    ")"
   ]
  },
  {
   "cell_type": "code",
   "execution_count": 8,
   "metadata": {},
   "outputs": [
    {
     "name": "stdout",
     "output_type": "stream",
     "text": [
      "\n",
      "\n",
      "\u001b[1m> Entering new SQL Agent Executor chain...\u001b[0m\n",
      "\u001b[32;1m\u001b[1;3m\n",
      "Invoking: `sql_db_list_tables` with `{}`\n",
      "\n",
      "\n",
      "\u001b[0m\u001b[38;5;200m\u001b[1;3mactor, address, category, city, country, customer, film, film_actor, film_category, film_text, inventory, language, payment, rental, staff, store\u001b[0m\u001b[32;1m\u001b[1;3m\n",
      "Invoking: `sql_db_schema` with `{'table_names': 'film'}`\n",
      "\n",
      "\n",
      "\u001b[0m\u001b[33;1m\u001b[1;3m\n",
      "CREATE TABLE film (\n",
      "\tfilm_id INTEGER NOT NULL, \n",
      "\ttitle VARCHAR(255) NOT NULL, \n",
      "\tdescription TEXT DEFAULT NULL, \n",
      "\trelease_year VARCHAR(4) DEFAULT NULL, \n",
      "\tlanguage_id SMALLINT NOT NULL, \n",
      "\toriginal_language_id SMALLINT DEFAULT NULL, \n",
      "\trental_duration SMALLINT DEFAULT 3 NOT NULL, \n",
      "\trental_rate DECIMAL(4, 2) DEFAULT 4.99 NOT NULL, \n",
      "\tlength SMALLINT DEFAULT NULL, \n",
      "\treplacement_cost DECIMAL(5, 2) DEFAULT 19.99 NOT NULL, \n",
      "\trating VARCHAR(10) DEFAULT 'G', \n",
      "\tspecial_features VARCHAR(100) DEFAULT NULL, \n",
      "\tlast_update TIMESTAMP NOT NULL, \n",
      "\tPRIMARY KEY (film_id), \n",
      "\tCONSTRAINT fk_film_language FOREIGN KEY(language_id) REFERENCES language (language_id), \n",
      "\tCONSTRAINT fk_film_language_original FOREIGN KEY(original_language_id) REFERENCES language (language_id), \n",
      "\tCONSTRAINT \"CHECK_special_rating\" CHECK (rating in ('G','PG','PG-13','R','NC-17'))\n",
      ")\n",
      "\n",
      "/*\n",
      "3 rows from film table:\n",
      "film_id\ttitle\tdescription\trelease_year\tlanguage_id\toriginal_language_id\trental_duration\trental_rate\tlength\treplacement_cost\trating\tspecial_features\tlast_update\n",
      "1\tACADEMY DINOSAUR\tA Epic Drama of a Feminist And a Mad Scientist who must Battle a Teacher in The Canadian Rockies\t2006\t1\tNone\t6\t0.99\t86\t20.99\tPG\tDeleted Scenes,Behind the Scenes\t2020-12-23 07:12:31\n",
      "2\tACE GOLDFINGER\tA Astounding Epistle of a Database Administrator And a Explorer who must Find a Car in Ancient China\t2006\t1\tNone\t3\t4.99\t48\t12.99\tG\tTrailers,Deleted Scenes\t2020-12-23 07:12:31\n",
      "3\tADAPTATION HOLES\tA Astounding Reflection of a Lumberjack And a Car who must Sink a Lumberjack in A Baloon Factory\t2006\t1\tNone\t7\t2.99\t50\t18.99\tNC-17\tTrailers,Deleted Scenes\t2020-12-23 07:12:31\n",
      "*/\u001b[0m"
     ]
    },
    {
     "name": "stderr",
     "output_type": "stream",
     "text": [
      "d:\\Udemy\\2025\\agents\\.venv\\Lib\\site-packages\\langchain_community\\utilities\\sql_database.py:313: SAWarning: Cannot correctly sort tables; there are unresolvable cycles between tables \"staff, store\", which is usually caused by mutually dependent foreign key constraints.  Foreign key constraints involving these tables will not be considered; this warning may raise an error in a future release.\n",
      "  metadata_table_names = [tbl.name for tbl in self._metadata.sorted_tables]\n",
      "d:\\Udemy\\2025\\agents\\.venv\\Lib\\site-packages\\langchain_community\\utilities\\sql_database.py:325: SAWarning: Cannot correctly sort tables; there are unresolvable cycles between tables \"staff, store\", which is usually caused by mutually dependent foreign key constraints.  Foreign key constraints involving these tables will not be considered; this warning may raise an error in a future release.\n",
      "  for tbl in self._metadata.sorted_tables\n"
     ]
    },
    {
     "name": "stdout",
     "output_type": "stream",
     "text": [
      "\u001b[32;1m\u001b[1;3m\n",
      "Invoking: `sql_db_query` with `{'query': 'SELECT title, rental_duration, rental_rate, replacement_cost FROM film ORDER BY rental_duration DESC LIMIT 10'}`\n",
      "\n",
      "\n",
      "\u001b[0m\u001b[36;1m\u001b[1;3m[('ADAPTATION HOLES', 7, 2.99, 18.99), ('ANONYMOUS HUMAN', 7, 0.99, 12.99), ('ARGONAUTS TOWN', 7, 0.99, 12.99), ('BIKINI BORROWERS', 7, 4.99, 26.99), ('BLACKOUT PRIVATE', 7, 2.99, 12.99), ('BLANKET BEVERLY', 7, 2.99, 21.99), ('BOILED DARES', 7, 4.99, 13.99), ('BOONDOCK BALLROOM', 7, 0.99, 14.99), ('BORN SPINAL', 7, 4.99, 17.99), ('BORROWERS BEDAZZLED', 7, 0.99, 22.99)]\u001b[0m\u001b[32;1m\u001b[1;3mOs filmes mais alugados com base na duração de aluguel são:\n",
      "\n",
      "1. Título: ADAPTATION HOLES, Duração de Aluguel: 7 dias, Taxa de Aluguel: $2.99, Custo de Substituição: $18.99\n",
      "2. Título: ANONYMOUS HUMAN, Duração de Aluguel: 7 dias, Taxa de Aluguel: $0.99, Custo de Substituição: $12.99\n",
      "3. Título: ARGONAUTS TOWN, Duração de Aluguel: 7 dias, Taxa de Aluguel: $0.99, Custo de Substituição: $12.99\n",
      "4. Título: BIKINI BORROWERS, Duração de Aluguel: 7 dias, Taxa de Aluguel: $4.99, Custo de Substituição: $26.99\n",
      "5. Título: BLACKOUT PRIVATE, Duração de Aluguel: 7 dias, Taxa de Aluguel: $2.99, Custo de Substituição: $12.99\n",
      "6. Título: BLANKET BEVERLY, Duração de Aluguel: 7 dias, Taxa de Aluguel: $2.99, Custo de Substituição: $21.99\n",
      "7. Título: BOILED DARES, Duração de Aluguel: 7 dias, Taxa de Aluguel: $4.99, Custo de Substituição: $13.99\n",
      "8. Título: BOONDOCK BALLROOM, Duração de Aluguel: 7 dias, Taxa de Aluguel: $0.99, Custo de Substituição: $14.99\n",
      "9. Título: BORN SPINAL, Duração de Aluguel: 7 dias, Taxa de Aluguel: $4.99, Custo de Substituição: $17.99\n",
      "10. Título: BORROWERS BEDAZZLED, Duração de Aluguel: 7 dias, Taxa de Aluguel: $0.99, Custo de Substituição: $22.99\u001b[0m\n",
      "\n",
      "\u001b[1m> Finished chain.\u001b[0m\n",
      "{'input': 'Quais são os filmes mais alugados?', 'output': 'Os filmes mais alugados com base na duração de aluguel são:\\n\\n1. Título: ADAPTATION HOLES, Duração de Aluguel: 7 dias, Taxa de Aluguel: $2.99, Custo de Substituição: $18.99\\n2. Título: ANONYMOUS HUMAN, Duração de Aluguel: 7 dias, Taxa de Aluguel: $0.99, Custo de Substituição: $12.99\\n3. Título: ARGONAUTS TOWN, Duração de Aluguel: 7 dias, Taxa de Aluguel: $0.99, Custo de Substituição: $12.99\\n4. Título: BIKINI BORROWERS, Duração de Aluguel: 7 dias, Taxa de Aluguel: $4.99, Custo de Substituição: $26.99\\n5. Título: BLACKOUT PRIVATE, Duração de Aluguel: 7 dias, Taxa de Aluguel: $2.99, Custo de Substituição: $12.99\\n6. Título: BLANKET BEVERLY, Duração de Aluguel: 7 dias, Taxa de Aluguel: $2.99, Custo de Substituição: $21.99\\n7. Título: BOILED DARES, Duração de Aluguel: 7 dias, Taxa de Aluguel: $4.99, Custo de Substituição: $13.99\\n8. Título: BOONDOCK BALLROOM, Duração de Aluguel: 7 dias, Taxa de Aluguel: $0.99, Custo de Substituição: $14.99\\n9. Título: BORN SPINAL, Duração de Aluguel: 7 dias, Taxa de Aluguel: $4.99, Custo de Substituição: $17.99\\n10. Título: BORROWERS BEDAZZLED, Duração de Aluguel: 7 dias, Taxa de Aluguel: $0.99, Custo de Substituição: $22.99'}\n"
     ]
    }
   ],
   "source": [
    "response = agent_executor_sakila.invoke({\"input\": \"Quais são os filmes mais alugados?\"})\n",
    "print(response)"
   ]
  },
  {
   "cell_type": "code",
   "execution_count": 9,
   "metadata": {},
   "outputs": [
    {
     "name": "stdout",
     "output_type": "stream",
     "text": [
      "\n",
      "\n",
      "\u001b[1m> Entering new SQL Agent Executor chain...\u001b[0m\n",
      "\u001b[32;1m\u001b[1;3m\n",
      "Invoking: `sql_db_list_tables` with `{}`\n",
      "\n",
      "\n",
      "\u001b[0m\u001b[38;5;200m\u001b[1;3mactor, address, category, city, country, customer, film, film_actor, film_category, film_text, inventory, language, payment, rental, staff, store\u001b[0m\u001b[32;1m\u001b[1;3m\n",
      "Invoking: `sql_db_schema` with `{'table_names': 'actor, film_actor'}`\n",
      "\n",
      "\n",
      "\u001b[0m\u001b[33;1m\u001b[1;3m\n",
      "CREATE TABLE actor (\n",
      "\tactor_id NUMERIC NOT NULL, \n",
      "\tfirst_name VARCHAR(45) NOT NULL, \n",
      "\tlast_name VARCHAR(45) NOT NULL, \n",
      "\tlast_update TIMESTAMP NOT NULL, \n",
      "\tPRIMARY KEY (actor_id)\n",
      ")\n",
      "\n",
      "/*\n",
      "3 rows from actor table:\n",
      "actor_id\tfirst_name\tlast_name\tlast_update\n",
      "1.0000000000\tPENELOPE\tGUINESS\t2020-12-23 07:12:29\n",
      "2.0000000000\tNICK\tWAHLBERG\t2020-12-23 07:12:29\n",
      "3.0000000000\tED\tCHASE\t2020-12-23 07:12:29\n",
      "*/\n",
      "\n",
      "\n",
      "CREATE TABLE film_actor (\n",
      "\tactor_id INTEGER NOT NULL, \n",
      "\tfilm_id INTEGER NOT NULL, \n",
      "\tlast_update TIMESTAMP NOT NULL, \n",
      "\tPRIMARY KEY (actor_id, film_id), \n",
      "\tCONSTRAINT fk_film_actor_actor FOREIGN KEY(actor_id) REFERENCES actor (actor_id) ON UPDATE CASCADE, \n",
      "\tCONSTRAINT fk_film_actor_film FOREIGN KEY(film_id) REFERENCES film (film_id) ON UPDATE CASCADE\n",
      ")\n",
      "\n",
      "/*\n",
      "3 rows from film_actor table:\n",
      "actor_id\tfilm_id\tlast_update\n",
      "1\t1\t2020-12-23 07:13:43\n",
      "1\t23\t2020-12-23 07:13:43\n",
      "1\t25\t2020-12-23 07:13:43\n",
      "*/\u001b[0m"
     ]
    },
    {
     "name": "stderr",
     "output_type": "stream",
     "text": [
      "d:\\Udemy\\2025\\agents\\.venv\\Lib\\site-packages\\langchain_community\\utilities\\sql_database.py:313: SAWarning: Cannot correctly sort tables; there are unresolvable cycles between tables \"staff, store\", which is usually caused by mutually dependent foreign key constraints.  Foreign key constraints involving these tables will not be considered; this warning may raise an error in a future release.\n",
      "  metadata_table_names = [tbl.name for tbl in self._metadata.sorted_tables]\n",
      "d:\\Udemy\\2025\\agents\\.venv\\Lib\\site-packages\\langchain_community\\utilities\\sql_database.py:325: SAWarning: Cannot correctly sort tables; there are unresolvable cycles between tables \"staff, store\", which is usually caused by mutually dependent foreign key constraints.  Foreign key constraints involving these tables will not be considered; this warning may raise an error in a future release.\n",
      "  for tbl in self._metadata.sorted_tables\n"
     ]
    },
    {
     "name": "stdout",
     "output_type": "stream",
     "text": [
      "\u001b[32;1m\u001b[1;3m\n",
      "Invoking: `sql_db_query` with `{'query': 'SELECT actor_id, COUNT(*) as movie_count FROM film_actor GROUP BY actor_id ORDER BY movie_count DESC LIMIT 10'}`\n",
      "\n",
      "\n",
      "\u001b[0m\u001b[36;1m\u001b[1;3m[(107, 42), (102, 41), (198, 40), (181, 39), (23, 37), (81, 36), (13, 35), (37, 35), (60, 35), (106, 35)]\u001b[0m\u001b[32;1m\u001b[1;3mOs atores que atuaram em mais filmes são os atores com os IDs 107, 102, e 198, com 42, 41, e 40 filmes, respectivamente.\u001b[0m\n",
      "\n",
      "\u001b[1m> Finished chain.\u001b[0m\n",
      "{'input': 'Quais atores atuaram em mais filmes?', 'output': 'Os atores que atuaram em mais filmes são os atores com os IDs 107, 102, e 198, com 42, 41, e 40 filmes, respectivamente.'}\n"
     ]
    }
   ],
   "source": [
    "response = agent_executor_sakila.invoke({\"input\": \"Quais atores atuaram em mais filmes?\"})\n",
    "print(response)"
   ]
  },
  {
   "cell_type": "code",
   "execution_count": 10,
   "metadata": {},
   "outputs": [
    {
     "name": "stdout",
     "output_type": "stream",
     "text": [
      "\n",
      "\n",
      "\u001b[1m> Entering new SQL Agent Executor chain...\u001b[0m\n",
      "\u001b[32;1m\u001b[1;3m\n",
      "Invoking: `sql_db_list_tables` with `{}`\n",
      "\n",
      "\n",
      "\u001b[0m\u001b[38;5;200m\u001b[1;3mactor, address, category, city, country, customer, film, film_actor, film_category, film_text, inventory, language, payment, rental, staff, store\u001b[0m\u001b[32;1m\u001b[1;3m\n",
      "Invoking: `sql_db_schema` with `{'table_names': 'customer, rental'}`\n",
      "\n",
      "\n",
      "\u001b[0m\u001b[33;1m\u001b[1;3m\n",
      "CREATE TABLE customer (\n",
      "\tcustomer_id INTEGER NOT NULL, \n",
      "\tstore_id INTEGER NOT NULL, \n",
      "\tfirst_name VARCHAR(45) NOT NULL, \n",
      "\tlast_name VARCHAR(45) NOT NULL, \n",
      "\temail VARCHAR(50) DEFAULT NULL, \n",
      "\taddress_id INTEGER NOT NULL, \n",
      "\tactive CHAR(1) DEFAULT 'Y' NOT NULL, \n",
      "\tcreate_date TIMESTAMP NOT NULL, \n",
      "\tlast_update TIMESTAMP NOT NULL, \n",
      "\tPRIMARY KEY (customer_id), \n",
      "\tCONSTRAINT fk_customer_store FOREIGN KEY(store_id) REFERENCES store (store_id) ON UPDATE CASCADE, \n",
      "\tCONSTRAINT fk_customer_address FOREIGN KEY(address_id) REFERENCES address (address_id) ON UPDATE CASCADE\n",
      ")\n",
      "\n",
      "/*\n",
      "3 rows from customer table:\n",
      "customer_id\tstore_id\tfirst_name\tlast_name\temail\taddress_id\tactive\tcreate_date\tlast_update\n",
      "1\t1\tMARY\tSMITH\tMARY.SMITH@sakilacustomer.org\t5\t1\t2006-02-14 22:04:36\t2020-12-23 07:15:11\n",
      "2\t1\tPATRICIA\tJOHNSON\tPATRICIA.JOHNSON@sakilacustomer.org\t6\t1\t2006-02-14 22:04:36\t2020-12-23 07:15:11\n",
      "3\t1\tLINDA\tWILLIAMS\tLINDA.WILLIAMS@sakilacustomer.org\t7\t1\t2006-02-14 22:04:36\t2020-12-23 07:15:11\n",
      "*/\n",
      "\n",
      "\n",
      "CREATE TABLE rental (\n",
      "\trental_id INTEGER NOT NULL, \n",
      "\trental_date TIMESTAMP NOT NULL, \n",
      "\tinventory_id INTEGER NOT NULL, \n",
      "\tcustomer_id INTEGER NOT NULL, \n",
      "\treturn_date TIMESTAMP DEFAULT NULL, \n",
      "\tstaff_id SMALLINT NOT NULL, \n",
      "\tlast_update TIMESTAMP NOT NULL, \n",
      "\tPRIMARY KEY (rental_id), \n",
      "\tCONSTRAINT fk_rental_staff FOREIGN KEY(staff_id) REFERENCES staff (staff_id), \n",
      "\tCONSTRAINT fk_rental_inventory FOREIGN KEY(inventory_id) REFERENCES inventory (inventory_id), \n",
      "\tCONSTRAINT fk_rental_customer FOREIGN KEY(customer_id) REFERENCES customer (customer_id)\n",
      ")\n",
      "\n",
      "/*\n",
      "3 rows from rental table:\n",
      "rental_id\trental_date\tinventory_id\tcustomer_id\treturn_date\tstaff_id\tlast_update\n",
      "1\t2005-05-24 22:53:30\t367\t130\t2005-05-26 22:04:30\t1\t2020-12-23 07:15:20\n",
      "2\t2005-05-24 22:54:33\t1525\t459\t2005-05-28 19:40:33\t1\t2020-12-23 07:15:20\n",
      "3\t2005-05-24 23:03:39\t1711\t408\t2005-06-01 22:12:39\t1\t2020-12-23 07:15:20\n",
      "*/\u001b[0m"
     ]
    },
    {
     "name": "stderr",
     "output_type": "stream",
     "text": [
      "d:\\Udemy\\2025\\agents\\.venv\\Lib\\site-packages\\langchain_community\\utilities\\sql_database.py:313: SAWarning: Cannot correctly sort tables; there are unresolvable cycles between tables \"staff, store\", which is usually caused by mutually dependent foreign key constraints.  Foreign key constraints involving these tables will not be considered; this warning may raise an error in a future release.\n",
      "  metadata_table_names = [tbl.name for tbl in self._metadata.sorted_tables]\n",
      "d:\\Udemy\\2025\\agents\\.venv\\Lib\\site-packages\\langchain_community\\utilities\\sql_database.py:325: SAWarning: Cannot correctly sort tables; there are unresolvable cycles between tables \"staff, store\", which is usually caused by mutually dependent foreign key constraints.  Foreign key constraints involving these tables will not be considered; this warning may raise an error in a future release.\n",
      "  for tbl in self._metadata.sorted_tables\n"
     ]
    },
    {
     "name": "stdout",
     "output_type": "stream",
     "text": [
      "\u001b[32;1m\u001b[1;3m\n",
      "Invoking: `sql_db_query` with `{'query': 'SELECT c.first_name, c.last_name, COUNT(r.rental_id) AS total_rentals FROM customer c JOIN rental r ON c.customer_id = r.customer_id GROUP BY c.customer_id ORDER BY total_rentals DESC LIMIT 1'}`\n",
      "\n",
      "\n",
      "\u001b[0m\u001b[36;1m\u001b[1;3m[('ELEANOR', 'HUNT', 46)]\u001b[0m\u001b[32;1m\u001b[1;3mO cliente com mais aluguéis é ELEANOR HUNT, com um total de 46 aluguéis.\u001b[0m\n",
      "\n",
      "\u001b[1m> Finished chain.\u001b[0m\n",
      "{'input': 'Qual é o cliente com mais aluguéis?', 'output': 'O cliente com mais aluguéis é ELEANOR HUNT, com um total de 46 aluguéis.'}\n"
     ]
    }
   ],
   "source": [
    "response = agent_executor_sakila.invoke({\"input\": \"Qual é o cliente com mais aluguéis?\"})\n",
    "print(response)"
   ]
  }
 ],
 "metadata": {
  "kernelspec": {
   "display_name": ".venv",
   "language": "python",
   "name": "python3"
  },
  "language_info": {
   "codemirror_mode": {
    "name": "ipython",
    "version": 3
   },
   "file_extension": ".py",
   "mimetype": "text/x-python",
   "name": "python",
   "nbconvert_exporter": "python",
   "pygments_lexer": "ipython3",
   "version": "3.9.6"
  }
 },
 "nbformat": 4,
 "nbformat_minor": 2
}
