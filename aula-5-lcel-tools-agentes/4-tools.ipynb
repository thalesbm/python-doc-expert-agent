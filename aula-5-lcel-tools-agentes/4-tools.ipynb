{
 "cells": [
  {
   "cell_type": "code",
   "execution_count": 1,
   "metadata": {},
   "outputs": [
    {
     "name": "stderr",
     "output_type": "stream",
     "text": [
      "/Users/thalesmarega/Documents/thalesmarega/workspace-python/estudos-agents/.venv/lib/python3.9/site-packages/urllib3/__init__.py:35: NotOpenSSLWarning: urllib3 v2 only supports OpenSSL 1.1.1+, currently the 'ssl' module is compiled with 'LibreSSL 2.8.3'. See: https://github.com/urllib3/urllib3/issues/3020\n",
      "  warnings.warn(\n"
     ]
    },
    {
     "data": {
      "text/plain": [
       "'A distância entre São Paulo e Porto Alegre é de 300km'"
      ]
     },
     "execution_count": 1,
     "metadata": {},
     "output_type": "execute_result"
    }
   ],
   "source": [
    "from langchain.agents import tool\n",
    "from langchain.pydantic_v1 import BaseModel, Field\n",
    "\n",
    "class CalcularDistanciaArgs(BaseModel):\n",
    "    cidade_origem: str = Field(description=\"CIdade de origem\",\n",
    "                               examples=[\"São Paulo\", \"Rio de Janeiro\"])\n",
    "    cidade_destino: str = Field(description=\"CIdade de destino\",\n",
    "                               examples=[\"Porto Alegre\", \"Curitiba\"])\n",
    "    \n",
    "@tool(args_schema=CalcularDistanciaArgs)\n",
    "def calcular_distancia(cidade_origem: str, cidade_destino: str):\n",
    "    \"\"\"Calcula a distância entre duas cidades\"\"\"\n",
    "    return f\"A distância entre {cidade_origem} e {cidade_destino} é de 300km\"\n",
    "\n",
    "calcular_distancia.invoke({\"cidade_origem\": \"São Paulo\",\n",
    "                           \"cidade_destino\": \"Porto Alegre\"})"
   ]
  },
  {
   "cell_type": "code",
   "execution_count": 2,
   "metadata": {},
   "outputs": [
    {
     "data": {
      "text/plain": [
       "StructuredTool(name='realizar_calculo', description='realizar_calculo(numero1: float, numero2: float, operacao: str) - Realiza operações matemáticas básicas', args_schema=<class '__main__.OperacaoMatematicaArgs'>, func=<function realizar_calculo at 0x10c68fca0>)"
      ]
     },
     "execution_count": 2,
     "metadata": {},
     "output_type": "execute_result"
    }
   ],
   "source": [
    "from langchain.agents import tool\n",
    "from langchain.pydantic_v1 import BaseModel, Field\n",
    "\n",
    "class OperacaoMatematicaArgs(BaseModel):\n",
    "    numero1: float = Field(description=\"Primeiro número\", examples=[10, 5])\n",
    "    numero2: float = Field(description=\"Segundo número\", examples=[20, 3])\n",
    "    operacao: str = Field(description=\"Operação a ser realizada\", examples=[\"soma\", \"subtração\"])\n",
    "    \n",
    "@tool(args_schema=OperacaoMatematicaArgs)\n",
    "def realizar_calculo(numero1: float, numero2: float, operacao: str):\n",
    "    \"\"\"Realiza operações matemáticas básicas\"\"\"\n",
    "    if operacao == \"soma\":\n",
    "        return numero1 + numero2\n",
    "    elif operacao == \"subtração\":\n",
    "        return numero1 + numero2\n",
    "    else:\n",
    "        return \"Operação inválida\"\n",
    "    \n",
    "realizar_calculo\n",
    "    \n",
    "    "
   ]
  },
  {
   "cell_type": "code",
   "execution_count": 3,
   "metadata": {},
   "outputs": [
    {
     "data": {
      "text/plain": [
       "60.0"
      ]
     },
     "execution_count": 3,
     "metadata": {},
     "output_type": "execute_result"
    }
   ],
   "source": [
    "realizar_calculo.invoke({\n",
    "    \"numero1\": 10,\n",
    "    \"numero2\": 50,\n",
    "    \"operacao\": \"soma\"\n",
    "})"
   ]
  },
  {
   "cell_type": "code",
   "execution_count": 4,
   "metadata": {},
   "outputs": [
    {
     "data": {
      "text/plain": [
       "StructuredTool(name='obter_informacoes_filme', description='obter_informacoes_filme(titulo_filme: str) - Retorna informações sobre um filme', args_schema=<class '__main__.InformacoesFilmeArgs'>, func=<function obter_informacoes_filme at 0x10c6bb0d0>)"
      ]
     },
     "execution_count": 4,
     "metadata": {},
     "output_type": "execute_result"
    }
   ],
   "source": [
    "from langchain.agents import tool\n",
    "from langchain.pydantic_v1 import BaseModel, Field\n",
    "\n",
    "class InformacoesFilmeArgs(BaseModel):\n",
    "    titulo_filme: str = Field(description='Título do filme', \n",
    "                              examples=['Inception', 'The Matrix'])\n",
    "\n",
    "@tool(args_schema=InformacoesFilmeArgs)\n",
    "def obter_informacoes_filme(titulo_filme: str):\n",
    "    '''Retorna informações sobre um filme'''\n",
    "    # Simulando a resposta com informações fictícias\n",
    "    return f'O filme \"{titulo_filme}\" foi lançado em 2010, dirigido por Christopher Nolan.'\n",
    "\n",
    "obter_informacoes_filme"
   ]
  },
  {
   "cell_type": "code",
   "execution_count": 5,
   "metadata": {},
   "outputs": [
    {
     "data": {
      "text/plain": [
       "'O filme \"Inception\" foi lançado em 2010, dirigido por Christopher Nolan.'"
      ]
     },
     "execution_count": 5,
     "metadata": {},
     "output_type": "execute_result"
    }
   ],
   "source": [
    "obter_informacoes_filme.invoke({'titulo_filme': 'Inception'})"
   ]
  }
 ],
 "metadata": {
  "kernelspec": {
   "display_name": ".venv",
   "language": "python",
   "name": "python3"
  },
  "language_info": {
   "codemirror_mode": {
    "name": "ipython",
    "version": 3
   },
   "file_extension": ".py",
   "mimetype": "text/x-python",
   "name": "python",
   "nbconvert_exporter": "python",
   "pygments_lexer": "ipython3",
   "version": "3.9.6"
  }
 },
 "nbformat": 4,
 "nbformat_minor": 2
}
