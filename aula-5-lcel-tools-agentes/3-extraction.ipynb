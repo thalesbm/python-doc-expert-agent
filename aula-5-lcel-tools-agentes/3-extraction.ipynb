{
 "cells": [
  {
   "cell_type": "code",
   "execution_count": 1,
   "metadata": {},
   "outputs": [
    {
     "name": "stderr",
     "output_type": "stream",
     "text": [
      "/Users/thalesmarega/Documents/thalesmarega/workspace-python/estudos-agents/.venv/lib/python3.9/site-packages/urllib3/__init__.py:35: NotOpenSSLWarning: urllib3 v2 only supports OpenSSL 1.1.1+, currently the 'ssl' module is compiled with 'LibreSSL 2.8.3'. See: https://github.com/urllib3/urllib3/issues/3020\n",
      "  warnings.warn(\n"
     ]
    },
    {
     "data": {
      "text/plain": [
       "{'name': 'EventsList',\n",
       " 'description': 'Lista de Eventos para Extração',\n",
       " 'parameters': {'type': 'object',\n",
       "  'properties': {'events': {'description': 'Conjunto de eventos encontrados no texto fornecido',\n",
       "    'type': 'array',\n",
       "    'items': {'description': 'Informações sobre um evento ocorrido',\n",
       "     'type': 'object',\n",
       "     'properties': {'date': {'description': 'Data do evento no formato YYYY-MM-DD',\n",
       "       'type': 'string'},\n",
       "      'event': {'description': 'Descrição do evento extraído do texto',\n",
       "       'type': 'string'}},\n",
       "     'required': ['date', 'event']}}},\n",
       "  'required': ['events']}}"
      ]
     },
     "execution_count": 1,
     "metadata": {},
     "output_type": "execute_result"
    }
   ],
   "source": [
    "texto = \"\"\"\n",
    "A Microsoft foi fundada em 4 de abril de 1975 por Bill Gates e Paul Allen, em Albuquerque, \n",
    "no estado do Novo México. O nome \"Microsoft\" é uma combinação das palavras \"microcomputador\" \n",
    "e \"software\", refletindo o foco da empresa em software para computadores pessoais.\n",
    "O primeiro grande projeto da Microsoft foi a criação de um sistema operacional para o \n",
    "computador Altair 8800, um dos primeiros microcomputadores disponíveis comercialmente. \n",
    "O sistema, denominado Altair BASIC, foi desenvolvido em parceria com a MITS \n",
    "(Micro Instrumentation and Telemetry Systems) e foi um marco inicial para a Microsoft.\n",
    "Em 1980, a empresa firmou um contrato significativo com a IBM para fornecer o sistema \n",
    "operacional para o novo PC da IBM, o que levou à criação do MS-DOS. Esse contrato foi um \n",
    "ponto de virada para a Microsoft, impulsionando sua expansão e dominando o mercado de \n",
    "sistemas operacionais para PCs nos anos seguintes.\n",
    "Com o sucesso do MS-DOS, a Microsoft se consolidou como líder no setor de software e, \n",
    "em 1985, lançou o Windows, um sistema operacional gráfico que viria a se tornar a base \n",
    "de sua supremacia no mercado de sistemas operacionais para desktop.\n",
    "\"\"\"\n",
    "\n",
    "from langchain.pydantic_v1 import BaseModel, Field\n",
    "from typing import List\n",
    "from langchain_core.utils.function_calling import convert_to_openai_function\n",
    "\n",
    "class Event(BaseModel):\n",
    "    \"\"\"Informações sobre um evento ocorrido\"\"\"\n",
    "    date: str = Field(description=\"Data do evento no formato YYYY-MM-DD\")\n",
    "    event: str = Field(description=\"Descrição do evento extraído do texto\")\n",
    "    \n",
    "class EventsList(BaseModel):\n",
    "    \"\"\"Lista de Eventos para Extração\"\"\"\n",
    "    events: List[Event] = Field(description=\"Conjunto de eventos encontrados no texto fornecido\")\n",
    "    \n",
    "tool_events = convert_to_openai_function(EventsList)\n",
    "tool_events"
   ]
  },
  {
   "cell_type": "code",
   "execution_count": 3,
   "metadata": {},
   "outputs": [
    {
     "data": {
      "text/plain": [
       "AIMessage(content='', additional_kwargs={'function_call': {'arguments': '{\"events\":[{\"date\":\"1975-04-04\",\"event\":\"A Microsoft foi fundada por Bill Gates e Paul Allen em Albuquerque, Novo México.\"},{\"date\":\"1980\",\"event\":\"A Microsoft firmou um contrato significativo com a IBM para fornecer o sistema operacional para o novo PC da IBM, resultando no MS-DOS.\"},{\"date\":\"1985\",\"event\":\"A Microsoft lançou o Windows, um sistema operacional gráfico que se tornou a base de sua supremacia no mercado de sistemas operacionais para desktop.\"}]}', 'name': 'EventsList'}}, response_metadata={'token_usage': {'completion_tokens': 115, 'prompt_tokens': 426, 'total_tokens': 541, 'completion_tokens_details': {'accepted_prediction_tokens': 0, 'audio_tokens': 0, 'reasoning_tokens': 0, 'rejected_prediction_tokens': 0}, 'prompt_tokens_details': {'audio_tokens': 0, 'cached_tokens': 0}}, 'model_name': 'gpt-3.5-turbo', 'system_fingerprint': None, 'finish_reason': 'stop', 'logprobs': None}, id='run-fbef94f5-a015-42a8-90a6-91a0791217d3-0')"
      ]
     },
     "execution_count": 3,
     "metadata": {},
     "output_type": "execute_result"
    }
   ],
   "source": [
    "from langchain.prompts import ChatPromptTemplate\n",
    "from langchain_openai import ChatOpenAI\n",
    "\n",
    "prompt = ChatPromptTemplate.from_messages([\n",
    "    (\"system\", \"Extraia as frases de acontecimentos e as extraia integralmente\"),\n",
    "    (\"user\", \"{input}\")\n",
    "])\n",
    "\n",
    "chat = ChatOpenAI()\n",
    "\n",
    "chain = (prompt | chat.bind(functions=[tool_events],\n",
    "                            function_call={\"name\":\"EventsList\"}))\n",
    "\n",
    "chain.invoke({\"input\": texto})"
   ]
  },
  {
   "cell_type": "code",
   "execution_count": 4,
   "metadata": {},
   "outputs": [
    {
     "data": {
      "text/plain": [
       "{'events': [{'date': '1975-04-04',\n",
       "   'event': 'A Microsoft foi fundada por Bill Gates e Paul Allen em Albuquerque, Novo México.'},\n",
       "  {'date': '1980',\n",
       "   'event': 'A Microsoft firmou um contrato com a IBM para fornecer o sistema operacional para o novo PC da IBM, resultando no desenvolvimento do MS-DOS.'},\n",
       "  {'date': '1985',\n",
       "   'event': 'A Microsoft lançou o Windows, um sistema operacional gráfico que se tornou a base de sua supremacia no mercado de sistemas operacionais para desktop.'}]}"
      ]
     },
     "execution_count": 4,
     "metadata": {},
     "output_type": "execute_result"
    }
   ],
   "source": [
    "from langchain.output_parsers.openai_functions import JsonOutputFunctionsParser\n",
    "\n",
    "chain = (prompt \n",
    "         | chat.bind(functions=[tool_events], function_call={'name': 'EventsList'})\n",
    "         | JsonOutputFunctionsParser())\n",
    "\n",
    "chain.invoke({'input': texto})"
   ]
  },
  {
   "cell_type": "markdown",
   "metadata": {},
   "source": [
    "### Dados da Web"
   ]
  },
  {
   "cell_type": "code",
   "execution_count": 5,
   "metadata": {},
   "outputs": [
    {
     "data": {
      "text/plain": [
       "[Document(page_content=\" TechTudo: tecnologia, celular, computador e games                top e últimas       Voltar     top e últimas    últimas do techtudo     notícias     comparativos     dicas e tutoriais     guias     listas     reviews     vídeos     tudo sobre     webstories       celulares e tablets       Voltar     celulares e tablets    notícias de celulares     celulares     tablets     telefonia     smartwatches     e-reader     android     iOS     fórum     --     iPhone 14     iphone 13     galaxy s22 ultra     moto g stylus     redmi note 10       jogos       Voltar     jogos    notícias de jogos     jogos casuais     jogos de esportes     jogos de terror     mais jogos       Voltar     mais jogos    jogos de ação     jogos arcade     jogos de aventura     jogos de corrida     jogos de estratégia     jogos de luta     jogos de raciocínio     jogos de rpg     jogos de tabuleiro     jogos educativos       playstation     xbox     nintendo     fórum     --     gta 5     roblox     minecraft       esports       Voltar     esports    notícias de esports     campeonatos     times     atletas     --     cblol     liga brasileira de free fire     twitch tv       informática       Voltar     informática    notícias de informática     computadores       Voltar     computadores    pc     pc gamer       notebooks       Voltar     notebooks    notebooks     notebooks 2 em 1     notebook gamer       impressoras       Voltar     impressoras    impressoras     impressoras 3d       mouses     placas e componentes     roteadores     --     windows 11     macos     linux       eletrodomésticos       Voltar     eletrodomésticos    air fryer     fogões     geladeiras     máquinas de lavar       eletrônicos       Voltar     eletrônicos    notícias de eletrônicos     ar-condicionado     caixas de som     câmeras       Voltar     câmeras    câmeras     filmadoras       carros smart     fones de ouvido     máquinas de cartão     tv box     TVs     veículos     --     gopro hero      chromecast     amazon echo dot       softwares       Voltar     softwares    notícias de softwares     aplicativos para celular     áudio e vídeo     imagens     inteligência artificial     internet     produtividade     redes sociais     segurança     utilitários     --     whatsapp     instagram     facebook     youtube       Streaming       Voltar     Streaming    notícias de streaming     Animes     Séries       Voltar     Séries    dorama     séries       Filmes     Jogos de futebol     Programas de TV     Plataformas       --     tech 60+     bbb     qual comprar     iphone 16     --     quem somos     fórum techtudo     canal do tt no whatsapp     CBN tecnologia     conteúdo de marca       Voltar     conteúdo de marca    americanas              princípios editoriais        termos de uso        política de privacidade                         Menu                      TechTudo                                                               últimas     aplicativos     celulares     eletrônicos     informática     eletrodomésticos     jogos     softwares     streaming     qual comprar         Publicidade        \\n\\n\\n\\n\\n                      FIQUE POR DENTRO\\n                    \\n                    CANAL DO TECHTUDO NO WHATSAPP\\n                  \\n\\n\\n\\n                      DICAS, REVIEWS E MAIS\\n                      \\n\\n\\n\\n\\n\\n\\n\\n\\n\\n      CHEGA DE LENTIDÃO! Celular que não trava: 6 modelos com RAM poderosa e 512 GB para comprar Smartphones de Xiaomi e Samsung têm bastante memória RAM e muito espaço para salvar arquivos e baixar apps; preços variam de R$ 2.000 a R$ 7.999        BOM CUSTO-BENEFÍCIO Melhor fone over-ear: 6 modelos que valem cada centavo em 2025        TESTAMOS! Organizei minha alimentação com o ChatGPT; veja os melhores prompts para usar       CONTINUA DEPOIS DA PUBLICIDADE            Vídeos              CONFIRA!  Conhecemos o Galaxy S25 Edge! Celular ultrafino da Samsung; veja           PASSO A PASSO  Instagram lança transcrição de áudio para DM do app; saiba usa           CELULAR MUDO?  Como limpar os alt-falantes do celular? Veja passo a passo correto          SOFTWARES E APPS          DESCUBRA    Como ocultar app no Xiaomi? Confira o tutorial passo a passo     Os celulares da Xiaomi contam com um recurso nativo que funciona como uma camada extra de segurança, permitindo esconder apps com informações sensíveis                 ENTENDA    Agentes de IA são o futuro? Veja o que esperar da nova tecnologia               CONFIRA    Organizei minha alimentação com o ChatGPT — 5 prompts para usar agora                     ELETRODOMÉSTICOS          ENTENDA    Air fryer dupla é boa? Veja 3 motivos pra comprar (e 3 pra fugir)     Conheça as principais vantagens e desvantagens de modelos com dois cestos, e descubra o que muda no uso diário, no espaço da cozinha e no valor de investimento                 ATENÇÃO    Qual a melhor cafeteira? 5 dicas para não errar na hora de comprar a sua               CUIDADO    8 situações em que você NUNCA deve usar uma extensão de tomada               VEJA OPÇÕES    Fogão de 5 bocas com mesa de vidro: 6 opções fáceis de limpar para comprar                    CELULARES          TESTAMOS!    Review Galaxy Tab S10 Ultra: tablet se destaca com IA e tela de cinema     A Trump Organization anunciou o lançamento do T1℠ Phone e da Trump Mobile, que vai oferecer um pacote com ligações ilimitadas; celular de Donald Trump custará US$ 499                 RESISTENTES    Celular Xiaomi à prova d'água: 5 modelos para comprar em 2025               FIQUE ESPERTO!    6 recursos inúteis que só servem para deixar o celular mais caro               PARA MULHERES    Smartwatch feminino: 7 melhores modelos para comprar em 2025                    STREAMING          PARA ACOMPANHAR    Quantos episódios tem Grey's Anatomy? Veja guia com temporadas e mais     No ar há duas décadas já, a série médica acompanha a rotina intensa e os dilemas pessoais dos cirurgiões do Grey Sloan Memorial, marcando gerações com episódios emocionantes                 PARA FÃS DO ESPORTE    7 animes de vôlei para assistir no streaming               VALE ASSISTIR    12 filmes com críticas sociais que vão mexer com a sua cabeça               QUE CALOR!!    Só para adultos: 12 filmes quentes e pesados para assistir no streaming                    INFORMÁTICA & ELETRÔNICOS          BOM CUSTO-BENEFÍCIO    Melhor fone over-ear: 6 modelos que valem cada centavo em 2025                 GUIA COMPLETO    Como escolher um monitor? Dicas e modelos para saber qual comprar               EXPLICAMOS TUDO!    Como funciona a Alexa? Veja guia de introdução para a caixinha da Amazon               PRÓS E CONTRAS    Vaio FE15 é barato, mas será que ainda é bom em 2025? Veja se vale a pena                    QUAL COMPRAR          QUE FRIO    5 aquecedores a óleo Mondial, Britânia e mais para se esquentar no inverno     Além dos modelos já citados, a lista também conta com opções da EOS, Philco e Mimo Style, com preços que variam desde R$ 340 na versão mais barata, até R$ 579 na mais cara                 BOAS OPÇÕES    Melhor panela elétrica de arroz: veja 9 opções para facilitar sua vida               ESPAÇO DE SOBRA    Celular Motorola 512 GB: 4 opções com muita memória e bom custo-benefício               SEM ARREPENDIMENTOS    Notebook para estudar e jogar: 5 itens versáteis que valem o investimento                    JOGOS & ESPORTS          KOJIMA DE VOLTA    Death Stranding 2 e Persona 5 são destaques nos lançamentos da semana     Desde moda até estilo de vida, esses jogos inspiraram os gamers dos anos 2000 e se tornaram clássicos                 BATALHAS LENDÁRIAS    12 jogos de guerra para celular que todo fã do gênero precisa conhecer               CLÁSSICO DO TERROR    Silent Hill: todos os jogos da franquia ranqueados do pior ao melhor               MUITO AGUARDADO    Death Stranding 2: tudo sobre gameplay, impressões e mais do lançamento                       Mais Lidas          Galaxy A55 vs Redmi Note 13 Pro 5G: o que muda entre os celulares       Review Galaxy Tab S10 Ultra: tablet se destaca com IA e tela de cinema       7 funções do Motorola que você provavelmente não usa, mas deveria       Fogão enferrujado? Erros simples podem estar por trás do problema       O que uma bomba nuclear pode fazer? Entenda os efeitos de uma explosão           CONTINUA DEPOIS DA PUBLICIDADE        Top Downloads         1        Counter-Strike    8,8                               Saiba mais        2        aTube Catcher    9,8                               Saiba mais        3        BlueStacks App Player    7,5                               Saiba mais        4        Chrome     10                               Saiba mais        5        Firefox    8,8                               Saiba mais        CONTINUA DEPOIS DA PUBLICIDADE       Techtudo   Você tem alguma dúvida sobre tecnologia? Visite o Fórum TechTudo e peça ajuda para a comunidade.   FAÇA UM PERGUNTA                SIGA                                                                    aplicativos    instagram     whatsapp     youtube      celulares    iphone 14     android     ios      jogos    coin master     gta 5     minecraft      esports    csgo     league of legends     valorant      eletrônicos    amazon echo dot     chromecast     gopro hero      eletrodomésticos    air fryer     fogões     geladeiras     máquinas de lavar      informática    dell     intel core i5     macbook air      softwares    adobe photoshop     adobe reader     windows      streaming    netflix     star+     amazon prime video      tudo sobre de a-z   mapa do site    comparativos     dicas e tutoriais     guias     listas     noticias     reviews     webstories                        Valor   Pipeline   Valor Investe       O Globo   Extra   Autoesporte   BHFM   Casa e Jardim   Casa Vogue   CBN       Crescer   Época Negócios   Galileu   Glamour   Globo Rural   GQ   Marie Claire       Monet   PEGN   Quem   Rádio Globo   TechTudo   Um Só Planeta   Vida de Bicho   Vogue        Quem Somos Termos e Condições Trabalhe Conosco Política de Privacidade Princípios Editoriais Anuncie Minha Editora       © 1996 - 2025. Todos direitos reservados a Editora Globo S/A. Este material não pode ser publicado, transmitido por broadcast, reescrito ou redistribuído sem autorização.          \", metadata={'source': 'https://www.techtudo.com.br', 'title': 'TechTudo: tecnologia, celular, computador e games', 'description': 'O TechTudo reúne as principais notícias de tecnologia, reviews de celulares, TVs e computadores, além de dicas sobre aparelhos, aplicativos e softwares.', 'language': 'pt-BR'})]"
      ]
     },
     "execution_count": 5,
     "metadata": {},
     "output_type": "execute_result"
    }
   ],
   "source": [
    "from langchain_community.document_loaders.web_base import WebBaseLoader\n",
    "\n",
    "loader = WebBaseLoader(\"https://www.techtudo.com.br\")\n",
    "page = loader.load()\n",
    "page"
   ]
  },
  {
   "cell_type": "code",
   "execution_count": 6,
   "metadata": {},
   "outputs": [
    {
     "data": {
      "text/plain": [
       "{'name': 'BlogSite',\n",
       " 'description': 'Conjunto de postagens de blog de um site específico',\n",
       " 'parameters': {'type': 'object',\n",
       "  'properties': {'posts': {'description': 'Coleção de postagens de blog do site',\n",
       "    'type': 'array',\n",
       "    'items': {'description': 'Detalhes sobre uma postagem de blog',\n",
       "     'type': 'object',\n",
       "     'properties': {'title': {'description': 'Título da postagem no blog',\n",
       "       'type': 'string'},\n",
       "      'author': {'description': 'Nome do autor da postagem no blog',\n",
       "       'type': 'string'}},\n",
       "     'required': ['title', 'author']}}},\n",
       "  'required': ['posts']}}"
      ]
     },
     "execution_count": 6,
     "metadata": {},
     "output_type": "execute_result"
    }
   ],
   "source": [
    "class BlogPost(BaseModel):\n",
    "    \"\"\"Detalhes sobre uma postagem de blog\"\"\"\n",
    "    title: str = Field(description=\"Título da postagem no blog\")\n",
    "    author: str = Field(description=\"Nome do autor da postagem no blog\")\n",
    "    \n",
    "class BlogSite(BaseModel):\n",
    "    \"\"\"Conjunto de postagens de blog de um site específico\"\"\"\n",
    "    posts: List[BlogPost] = Field(description=\"Coleção de postagens de blog do site\")\n",
    "    \n",
    "tool_blog = convert_to_openai_function(BlogSite)\n",
    "tool_blog"
   ]
  },
  {
   "cell_type": "code",
   "execution_count": 7,
   "metadata": {},
   "outputs": [
    {
     "data": {
      "text/plain": [
       "[{'title': 'CHEGA DE LENTIDÃO! Celular que não trava: 6 modelos com RAM poderosa e 512 GB para comprar',\n",
       "  'author': 'TechTudo'},\n",
       " {'title': 'BOM CUSTO-BENEFÍCIO Melhor fone over-ear: 6 modelos que valem cada centavo em 2025',\n",
       "  'author': 'TechTudo'},\n",
       " {'title': 'TESTAMOS! Organizei minha alimentação com o ChatGPT; veja os melhores prompts para usar',\n",
       "  'author': 'TechTudo'},\n",
       " {'title': 'DESCUBRA Como ocultar app no Xiaomi? Confira o tutorial passo a passo',\n",
       "  'author': 'TechTudo'},\n",
       " {'title': 'ENTENDA Air fryer dupla é boa? Veja 3 motivos pra comprar (e 3 pra fugir)',\n",
       "  'author': 'TechTudo'},\n",
       " {'title': 'ATENÇÃO Qual a melhor cafeteira? 5 dicas para não errar na hora de comprar a sua',\n",
       "  'author': 'TechTudo'},\n",
       " {'title': 'CUIDADO 8 situações em que você NUNCA deve usar uma extensão de tomada',\n",
       "  'author': 'TechTudo'},\n",
       " {'title': 'VEJA OPÇÕES Fogão de 5 bocas com mesa de vidro: 6 opções fáceis de limpar para comprar',\n",
       "  'author': 'TechTudo'},\n",
       " {'title': 'TESTAMOS! Review Galaxy Tab S10 Ultra: tablet se destaca com IA e tela de cinema',\n",
       "  'author': 'TechTudo'},\n",
       " {'title': \"RESISTENTES Celular Xiaomi à prova d'água: 5 modelos para comprar em 2025\",\n",
       "  'author': 'TechTudo'},\n",
       " {'title': 'FIQUE ESPERTO! 6 recursos inúteis que só servem para deixar o celular mais caro',\n",
       "  'author': 'TechTudo'},\n",
       " {'title': 'PARA MULHERES Smartwatch feminino: 7 melhores modelos para comprar em 2025',\n",
       "  'author': 'TechTudo'},\n",
       " {'title': \"PARA ACOMPANHAR Quantos episódios tem Grey's Anatomy? Veja guia com temporadas e mais\",\n",
       "  'author': 'TechTudo'},\n",
       " {'title': 'PARA FÃS DO ESPORTE 7 animes de vôlei para assistir no streaming',\n",
       "  'author': 'TechTudo'},\n",
       " {'title': 'VALE ASSISTIR 12 filmes com críticas sociais que vão mexer com a sua cabeça',\n",
       "  'author': 'TechTudo'},\n",
       " {'title': 'QUE CALOR!! Só para adultos: 12 filmes quentes e pesados para assistir no streaming',\n",
       "  'author': 'TechTudo'},\n",
       " {'title': 'BOM CUSTO-BENEFÍCIO Melhor fone over-ear: 6 modelos que valem cada centavo em 2025',\n",
       "  'author': 'TechTudo'},\n",
       " {'title': 'GUIA COMPLETO Como escolher um monitor? Dicas e modelos para saber qual comprar',\n",
       "  'author': 'TechTudo'},\n",
       " {'title': 'EXPLICAMOS TUDO! Como funciona a Alexa? Veja guia de introdução para a caixinha da Amazon',\n",
       "  'author': 'TechTudo'},\n",
       " {'title': 'PRÓS E CONTRAS Vaio FE15 é barato, mas será que ainda é bom em 2025? Veja se vale a pena',\n",
       "  'author': 'TechTudo'},\n",
       " {'title': 'QUE FRIO 5 aquecedores a óleo Mondial, Britânia e mais para se esquentar no inverno',\n",
       "  'author': 'TechTudo'},\n",
       " {'title': 'BOAS OPÇÕES Melhor panela elétrica de arroz: veja 9 opções para facilitar sua vida',\n",
       "  'author': 'TechTudo'},\n",
       " {'title': 'ESPAÇO DE SOBRA Celular Motorola 512 GB: 4 opções com muita memória e bom custo-benefício',\n",
       "  'author': 'TechTudo'},\n",
       " {'title': 'KOJIMA DE VOLTA Death Stranding 2 e Persona 5 são destaques nos lançamentos da semana',\n",
       "  'author': 'TechTudo'},\n",
       " {'title': 'BATALHAS LENDÁRIAS 12 jogos de guerra para celular que todo fã do gênero precisa conhecer',\n",
       "  'author': 'TechTudo'},\n",
       " {'title': 'CLÁSSICO DO TERROR Silent Hill: todos os jogos da franquia ranqueados do pior ao melhor',\n",
       "  'author': 'TechTudo'},\n",
       " {'title': 'MUITO AGUARDADO Death Stranding 2: tudo sobre gameplay, impressões e mais do lançamento',\n",
       "  'author': 'TechTudo'}]"
      ]
     },
     "execution_count": 7,
     "metadata": {},
     "output_type": "execute_result"
    }
   ],
   "source": [
    "from langchain.output_parsers.openai_functions import JsonKeyOutputFunctionsParser\n",
    "from langchain.prompts import ChatPromptTemplate\n",
    "from langchain_openai import ChatOpenAI\n",
    "\n",
    "prompt = ChatPromptTemplate.from_messages([\n",
    "    ('system', 'Extraia da página os posts do blog com as informações especificadas'),\n",
    "    ('user', '{input}')\n",
    "])\n",
    "chat = ChatOpenAI()\n",
    "chain = (prompt \n",
    "         | chat.bind(functions=[tool_blog], function_call={'name': 'BlogSite'})\n",
    "         | JsonKeyOutputFunctionsParser(key_name='posts'))\n",
    "\n",
    "chain.invoke({\"input\": page})"
   ]
  }
 ],
 "metadata": {
  "kernelspec": {
   "display_name": ".venv",
   "language": "python",
   "name": "python3"
  },
  "language_info": {
   "codemirror_mode": {
    "name": "ipython",
    "version": 3
   },
   "file_extension": ".py",
   "mimetype": "text/x-python",
   "name": "python",
   "nbconvert_exporter": "python",
   "pygments_lexer": "ipython3",
   "version": "3.9.6"
  }
 },
 "nbformat": 4,
 "nbformat_minor": 2
}
