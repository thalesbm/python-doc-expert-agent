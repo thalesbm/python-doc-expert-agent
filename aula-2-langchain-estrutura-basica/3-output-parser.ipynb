{
 "cells": [
  {
   "cell_type": "code",
   "execution_count": null,
   "id": "624c3554",
   "metadata": {},
   "outputs": [
    {
     "name": "stdout",
     "output_type": "stream",
     "text": [
      "[HumanMessage(content='\\nPara o texto a seguir, extraia as seguintes informações:\\nproduto: Nome do produto mencionado no texto.\\ncaracterísticas_positivas: Liste todas as características positivas mencionadas sobre o produto.\\ncaracterísticas_negativas: Liste todas as características negativas mencionadas sobre o produto.\\nrecomendação: O cliente recomenda o produto? Responda True para sim ou False para não.\\n\\nTexto: \\nEstou muito satisfeito com o Smartphone XYZ Pro. O desempenho é excelente, e o sistema \\noperacional é rápido e intuitivo. A câmera é um dos principais destaques, especialmente o \\nmodo noturno, que captura imagens incríveis mesmo em baixa iluminação. A duração da bateria \\ntambém impressiona, durando facilmente um dia inteiro com uso intenso.\\nPor outro lado, sinto que o produto poderia ser melhorado em alguns aspectos. A tela, \\nembora tenha cores vibrantes, parece refletir bastante luz, dificultando o uso sob o sol. \\nAlém disso, o carregador incluído na caixa não oferece carregamento rápido, o que é um ponto \\nnegativo considerando o preço do aparelho\\n\\n\\nRetorne a resposta no formato JSON\\n')]\n"
     ]
    }
   ],
   "source": [
    "from langchain.prompts import ChatPromptTemplate\n",
    "from langchain_openai.chat_models import ChatOpenAI\n",
    "\n",
    "feedback_produto = \"\"\"\n",
    "Estou muito satisfeito com o Smartphone XYZ Pro. O desempenho é excelente, e o sistema \n",
    "operacional é rápido e intuitivo. A câmera é um dos principais destaques, especialmente o \n",
    "modo noturno, que captura imagens incríveis mesmo em baixa iluminação. A duração da bateria \n",
    "também impressiona, durando facilmente um dia inteiro com uso intenso.\n",
    "Por outro lado, sinto que o produto poderia ser melhorado em alguns aspectos. A tela, \n",
    "embora tenha cores vibrantes, parece refletir bastante luz, dificultando o uso sob o sol. \n",
    "Além disso, o carregador incluído na caixa não oferece carregamento rápido, o que é um ponto \n",
    "negativo considerando o preço do aparelho\n",
    "\"\"\"\n",
    "\n",
    "review_template = ChatPromptTemplate.from_template(\"\"\"\n",
    "Para o texto a seguir, extraia as seguintes informações:\n",
    "produto: Nome do produto mencionado no texto.\n",
    "características_positivas: Liste todas as características positivas mencionadas sobre o produto.\n",
    "características_negativas: Liste todas as características negativas mencionadas sobre o produto.\n",
    "recomendação: O cliente recomenda o produto? Responda True para sim ou False para não.\n",
    "\n",
    "Texto: {review}\n",
    "\n",
    "Retorne a resposta no formato JSON\n",
    "\"\"\"\n",
    ")\n",
    "\n",
    "prompt = review_template.format_messages(review=feedback_produto)\n",
    "print(prompt)\n",
    "\n",
    "chat = ChatOpenAI()\n",
    "\n",
    "resposta = chat.invoke(prompt)"
   ]
  },
  {
   "cell_type": "code",
   "execution_count": 4,
   "id": "1eaee452",
   "metadata": {},
   "outputs": [
    {
     "name": "stdout",
     "output_type": "stream",
     "text": [
      "The output should be a markdown code snippet formatted in the following schema, including the leading and trailing \"```json\" and \"```\":\n",
      "\n",
      "```json\n",
      "{\n",
      "\t\"produto\": string  // Nome do produto mencionado no texto\n",
      "\t\"caracteristicas_positivas\": list  // Liste todas as características positivas mencionadas sobre o produto\n",
      "\t\"características_negativas\": list  // Liste todas as características negativas mencionadas sobre o produto.\n",
      "\t\"recomendação\": bool  // O cliente recomenda o produto? Responda True para sim ou False para não.\n",
      "}\n",
      "```\n"
     ]
    }
   ],
   "source": [
    "from langchain.output_parsers import ResponseSchema\n",
    "from langchain.output_parsers import StructuredOutputParser\n",
    "\n",
    "schema_produto = ResponseSchema(\n",
    "    name=\"produto\",\n",
    "    type=\"string\",\n",
    "    description=\"Nome do produto mencionado no texto\"\n",
    ")\n",
    "\n",
    "schema_positivas = ResponseSchema(\n",
    "    name=\"caracteristicas_positivas\",\n",
    "    type=\"list\",\n",
    "    description=\"Liste todas as características positivas mencionadas sobre o produto\"\n",
    ")\n",
    "\n",
    "schema_negativas = ResponseSchema(\n",
    "    name='características_negativas',\n",
    "    type='list',\n",
    "    description='Liste todas as características negativas mencionadas sobre o produto.'\n",
    ")\n",
    "\n",
    "schema_recomendacao = ResponseSchema(\n",
    "    name='recomendação',\n",
    "    type='bool',\n",
    "    description='O cliente recomenda o produto? Responda True para sim ou False para não.'\n",
    ")\n",
    "\n",
    "response_schema = [schema_produto, schema_positivas, schema_negativas, schema_recomendacao]\n",
    "output_parser = StructuredOutputParser.from_response_schemas(response_schema)\n",
    "schema_formatado = output_parser.get_format_instructions()\n",
    "\n",
    "print(schema_formatado)"
   ]
  },
  {
   "cell_type": "code",
   "execution_count": 8,
   "id": "78959c41",
   "metadata": {},
   "outputs": [
    {
     "name": "stdout",
     "output_type": "stream",
     "text": [
      "[HumanMessage(content='\\nPara o texto a seguir, extraia as seguintes informações:\\nproduto, caracteristicas_positivas, caracteristicas_negativas e recomendacao\\n\\nTexto: \\nEstou muito satisfeito com o Smartphone XYZ Pro. O desempenho é excelente, e o sistema \\noperacional é rápido e intuitivo. A câmera é um dos principais destaques, especialmente o \\nmodo noturno, que captura imagens incríveis mesmo em baixa iluminação. A duração da bateria \\ntambém impressiona, durando facilmente um dia inteiro com uso intenso.\\nPor outro lado, sinto que o produto poderia ser melhorado em alguns aspectos. A tela, \\nembora tenha cores vibrantes, parece refletir bastante luz, dificultando o uso sob o sol. \\nAlém disso, o carregador incluído na caixa não oferece carregamento rápido, o que é um ponto \\nnegativo considerando o preço do aparelho\\n\\n\\nThe output should be a markdown code snippet formatted in the following schema, including the leading and trailing \"```json\" and \"```\":\\n\\n```json\\n{\\n\\t\"produto\": string  // Nome do produto mencionado no texto\\n\\t\"caracteristicas_positivas\": list  // Liste todas as características positivas mencionadas sobre o produto\\n\\t\"características_negativas\": list  // Liste todas as características negativas mencionadas sobre o produto.\\n\\t\"recomendação\": bool  // O cliente recomenda o produto? Responda True para sim ou False para não.\\n}\\n```\\n')]\n",
      "Smartphone XYZ Pro\n",
      "['Desempenho excelente', 'Sistema operacional rápido e intuitivo', 'Câmera com destaque para o modo noturno', 'Duração da bateria impressionante']\n",
      "['Tela reflete bastante luz', 'Carregador não oferece carregamento rápido']\n",
      "True\n"
     ]
    }
   ],
   "source": [
    "review_template2 = ChatPromptTemplate.from_template(\"\"\"\n",
    "Para o texto a seguir, extraia as seguintes informações:\n",
    "produto, caracteristicas_positivas, caracteristicas_negativas e recomendacao\n",
    "\n",
    "Texto: {review}\n",
    "\n",
    "{schema}\n",
    "\"\"\", partial_variables={\"schema\":schema_formatado}\n",
    ")\n",
    "\n",
    "print(review_template2.format_messages(review=feedback_produto))\n",
    "\n",
    "resposta = chat.invoke(review_template2.format_messages(review=feedback_produto))\n",
    "resposta.content\n",
    "\n",
    "resposta_json = output_parser.parse(resposta.content)\n",
    "print(resposta_json[\"produto\"])\n",
    "print(resposta_json[\"caracteristicas_positivas\"])\n",
    "print(resposta_json[\"características_negativas\"])\n",
    "print(resposta_json[\"recomendação\"])"
   ]
  }
 ],
 "metadata": {
  "kernelspec": {
   "display_name": ".venv",
   "language": "python",
   "name": "python3"
  },
  "language_info": {
   "codemirror_mode": {
    "name": "ipython",
    "version": 3
   },
   "file_extension": ".py",
   "mimetype": "text/x-python",
   "name": "python",
   "nbconvert_exporter": "python",
   "pygments_lexer": "ipython3",
   "version": "3.9.6"
  }
 },
 "nbformat": 4,
 "nbformat_minor": 5
}
