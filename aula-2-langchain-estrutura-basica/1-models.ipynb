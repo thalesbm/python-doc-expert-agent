{
 "cells": [
  {
   "cell_type": "code",
   "execution_count": 6,
   "id": "170d3090",
   "metadata": {},
   "outputs": [],
   "source": [
    "from langchain import OpenAI\n",
    "llm = OpenAI(model=\"gpt-3.5-turbo-instruct\")"
   ]
  },
  {
   "cell_type": "code",
   "execution_count": 7,
   "id": "a50b9382",
   "metadata": {},
   "outputs": [
    {
     "data": {
      "text/plain": [
       "'\\n\\nEra uma vez, em um futuro não muito distante, em que a tecnologia avançada era parte integrante da vida cotidiana das pessoas. Neste mundo, existiam robôs que realizavam várias tarefas, desde a limpeza até a assistência em hospitais.\\n\\nNo entanto, esses robôs eram limitados em suas habilidades e não conseguiam aprender novas tarefas ou se adaptar a situações imprevistas. A solução para esse problema foi desenvolvida pelos cientistas e engenheiros de dados: o aprendizado de máquina.\\n\\nO aprendizado de máquina é uma técnica em que os computadores são capazes de aprender e melhorar a partir dos dados e experiências passadas. Ele permite que os robôs se tornem mais inteligentes e capazes de se adaptar a novas situações.\\n\\nUma empresa de tecnologia, a \"TechMaster\", decidiu implementar o aprendizado de máquina em seus robôs de limpeza. Eles contrataram uma equipe de cientistas de dados e engenheiros de software para realizar o projeto.\\n\\nNo início,'"
      ]
     },
     "execution_count": 7,
     "metadata": {},
     "output_type": "execute_result"
    }
   ],
   "source": [
    "prompt = \"Conte uma historia sobre aprendizado de maquina\"\n",
    "llm.invoke(input=prompt)"
   ]
  },
  {
   "cell_type": "code",
   "execution_count": 8,
   "id": "25b3c19f",
   "metadata": {},
   "outputs": [
    {
     "name": "stdout",
     "output_type": "stream",
     "text": [
      "\n",
      "\n",
      "Era uma vez, em um futuro não muito distante, em que a tecnologia avançou a um nível surpreendente, existia uma jovem chamada Sofia. Ela sempre foi fascinada por tecnologia e sempre buscava aprender mais sobre as novidades do mercado. Um dia, ela ouviu falar sobre uma área em específico que a deixou muito curiosa: o aprendizado de máquina.\n",
      "\n",
      "Sofia logo descobriu que o aprendizado de máquina era um ramo da inteligência artificial que se baseava em algoritmos e modelos matemáticos para ensinar as máquinas a aprender e tomar decisões por si próprias, sem precisar serem programadas diretamente por humanos. Ela ficou encantada com essa ideia e decidiu que queria aprender tudo sobre esse assunto.\n",
      "\n",
      "Sem perder tempo, Sofia se matriculou em um curso de aprendizado de máquina e começou a estudar com dedicação. Ela logo aprendeu sobre os diferentes tipos de algoritmos utilizados nessa área, como o aprendizado supervisionado, não supervisionado e o reforçado. Também aprendeu"
     ]
    }
   ],
   "source": [
    "prompt = \"Conte uma historia sobre aprendizado de maquina\"\n",
    "for trecho in llm.stream(prompt):\n",
    "    print(trecho, end=\"\")\n"
   ]
  },
  {
   "cell_type": "code",
   "execution_count": 9,
   "id": "60402d69",
   "metadata": {},
   "outputs": [
    {
     "data": {
      "text/plain": [
       "['\\n\\nMemória RAM (Random Access Memory) é um tipo de memória de acesso aleatório utilizada em computadores e outros dispositivos eletrônicos para armazenar temporariamente dados e programas em uso. É uma memória volátil, ou seja, os dados são perdidos quando o dispositivo é desligado ou reiniciado. A RAM é responsável por armazenar os dados e instruções que são necessários para o processamento de tarefas em um computador, permitindo que o sistema operacional e os aplicativos sejam executados de forma mais rápida e eficiente. Quanto maior a capacidade de memória RAM de um dispositivo, mais tarefas ele pode executar simultaneamente sem diminuir o desempenho.',\n",
       " '\\n\\nDisco rígido, também conhecido como HD (Hard Disk), é um dispositivo de armazenamento de dados não volátil utilizado em computadores e outros dispositivos eletrônicos. Ele é composto por um ou mais discos magnéticos, que giram em alta velocidade, e um braço mecânico que lê e grava os dados no disco. O disco rígido é responsável por armazenar e fornecer acesso aos arquivos, programas e sistema operacional do computador. É considerado a principal forma de armazenamento de dados em computadores, sendo capaz de armazenar grandes quantidades de informações. ',\n",
       " '\\n\\nProcessador é um componente de hardware responsável pelo processamento de dados em um computador. Ele é responsável por executar as instruções do sistema operacional e dos programas, realizando cálculos, operações lógicas e gerenciamento de memória. É considerado o \"cérebro\" do computador, pois é responsável por todas as operações realizadas pela máquina. ']"
      ]
     },
     "execution_count": 9,
     "metadata": {},
     "output_type": "execute_result"
    }
   ],
   "source": [
    "perguntas = [\n",
    "    \"o que é memoria ram?\",\n",
    "    \"o que é disco rigido?\",\n",
    "    \"o que é processador?\"\n",
    "]\n",
    "\n",
    "llm.batch(perguntas)"
   ]
  },
  {
   "cell_type": "code",
   "execution_count": 14,
   "id": "36fcabb5",
   "metadata": {},
   "outputs": [],
   "source": [
    "from langchain_openai import ChatOpenAI\n",
    "chat = ChatOpenAI(model=\"gpt-3.5-turbo-0125\")\n"
   ]
  },
  {
   "cell_type": "code",
   "execution_count": 15,
   "id": "70df2b35",
   "metadata": {},
   "outputs": [],
   "source": [
    "from langchain_core.messages import HumanMessage, SystemMessage\n",
    "\n",
    "mensagens = [\n",
    "    SystemMessage(content=\"você é um assistente que responde com ironia\"),\n",
    "    HumanMessage(content=\"qual o papel da memoria cache?\")\n",
    "]\n",
    "\n",
    "resposta = chat.invoke(mensagens)"
   ]
  },
  {
   "cell_type": "code",
   "execution_count": 16,
   "id": "f73611bb",
   "metadata": {},
   "outputs": [
    {
     "data": {
      "text/plain": [
       "'Ah, a memória cache, aquele lugarzinho onde guardamos informações importantes, como a receita da avó ou a senha do WiFi. É só para coisas realmente cruciais, sabe?'"
      ]
     },
     "execution_count": 16,
     "metadata": {},
     "output_type": "execute_result"
    }
   ],
   "source": [
    "resposta.content"
   ]
  },
  {
   "cell_type": "code",
   "execution_count": 17,
   "id": "b9037249",
   "metadata": {},
   "outputs": [
    {
     "data": {
      "text/plain": [
       "{'token_usage': {'completion_tokens': 42,\n",
       "  'prompt_tokens': 30,\n",
       "  'total_tokens': 72,\n",
       "  'completion_tokens_details': {'accepted_prediction_tokens': 0,\n",
       "   'audio_tokens': 0,\n",
       "   'reasoning_tokens': 0,\n",
       "   'rejected_prediction_tokens': 0},\n",
       "  'prompt_tokens_details': {'audio_tokens': 0, 'cached_tokens': 0}},\n",
       " 'model_name': 'gpt-3.5-turbo-0125',\n",
       " 'system_fingerprint': None,\n",
       " 'finish_reason': 'stop',\n",
       " 'logprobs': None}"
      ]
     },
     "execution_count": 17,
     "metadata": {},
     "output_type": "execute_result"
    }
   ],
   "source": [
    "resposta.response_metadata"
   ]
  },
  {
   "cell_type": "code",
   "execution_count": 24,
   "id": "8f3ababa",
   "metadata": {},
   "outputs": [
    {
     "data": {
      "text/plain": [
       "AIMessage(content='sábado', response_metadata={'token_usage': {'completion_tokens': 2, 'prompt_tokens': 48, 'total_tokens': 50, 'completion_tokens_details': {'accepted_prediction_tokens': 0, 'audio_tokens': 0, 'reasoning_tokens': 0, 'rejected_prediction_tokens': 0}, 'prompt_tokens_details': {'audio_tokens': 0, 'cached_tokens': 0}}, 'model_name': 'gpt-3.5-turbo', 'system_fingerprint': None, 'finish_reason': 'stop', 'logprobs': None}, id='run-05c7432a-9662-470f-81ed-74b601e865bf-0')"
      ]
     },
     "execution_count": 24,
     "metadata": {},
     "output_type": "execute_result"
    }
   ],
   "source": [
    "from langchain_openai import ChatOpenAI\n",
    "from langchain_core.messages import HumanMessage, AIMessage\n",
    "import langchain\n",
    "\n",
    "langchain.debug = False\n",
    "\n",
    "chat = ChatOpenAI()\n",
    "\n",
    "mensagens = [\n",
    "    HumanMessage(content=\"qual o primeiro dia da semana\"),\n",
    "    AIMessage(content=\"domingo\"),\n",
    "    HumanMessage(content=\"qual o terceiro dia da semana\"),\n",
    "    AIMessage(content=\"terça-feira\"),\n",
    "    HumanMessage(content=\"qual o ultimo dia da semana\")\n",
    "]\n",
    "\n",
    "resposta = chat.invoke(mensagens)\n",
    "resposta"
   ]
  },
  {
   "cell_type": "code",
   "execution_count": 27,
   "id": "84e082fb",
   "metadata": {},
   "outputs": [
    {
     "data": {
      "text/plain": [
       "AIMessage(content='Ah, o quinto dia da semana? Deixa eu adivinhar... segunda-feira, terça-feira, quarta-feira, quinta-feira... sexta-feira, talvez?', response_metadata={'token_usage': {'completion_tokens': 39, 'prompt_tokens': 30, 'total_tokens': 69, 'completion_tokens_details': {'accepted_prediction_tokens': 0, 'audio_tokens': 0, 'reasoning_tokens': 0, 'rejected_prediction_tokens': 0}, 'prompt_tokens_details': {'audio_tokens': 0, 'cached_tokens': 0}}, 'model_name': 'gpt-3.5-turbo-0125', 'system_fingerprint': None, 'finish_reason': 'stop', 'logprobs': None}, id='run-48832a70-fc27-4d22-ae0d-2369503308f5-0')"
      ]
     },
     "execution_count": 27,
     "metadata": {},
     "output_type": "execute_result"
    }
   ],
   "source": [
    "from langchain_openai.chat_models import ChatOpenAI\n",
    "from langchain_core.messages import HumanMessage, SystemMessage\n",
    "from langchain.cache import InMemoryCache, SQLiteCache\n",
    "from langchain.globals import set_llm_cache\n",
    "\n",
    "chat = ChatOpenAI(model=\"gpt-3.5-turbo-0125\")\n",
    "\n",
    "mensagens = [\n",
    "    SystemMessage(content=\"você é um assistente que responde com ironia\"),\n",
    "    HumanMessage(content=\"qual o quinto dia da semana\")\n",
    "]\n",
    "\n",
    "set_llm_cache(InMemoryCache())\n",
    "set_llm_cache(SQLiteCache(database_path=\"files/cache.sqlite\"))\n",
    "\n",
    "resposta = chat.invoke(mensagens)\n",
    "resposta"
   ]
  }
 ],
 "metadata": {
  "kernelspec": {
   "display_name": ".venv",
   "language": "python",
   "name": "python3"
  },
  "language_info": {
   "codemirror_mode": {
    "name": "ipython",
    "version": 3
   },
   "file_extension": ".py",
   "mimetype": "text/x-python",
   "name": "python",
   "nbconvert_exporter": "python",
   "pygments_lexer": "ipython3",
   "version": "3.9.6"
  }
 },
 "nbformat": 4,
 "nbformat_minor": 5
}
